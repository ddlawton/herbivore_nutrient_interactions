{
  "cells": [
    {
      "cell_type": "markdown",
      "metadata": {},
      "source": [
        "# Raw Data Visualization"
      ],
      "id": "47b3ecf8-1e50-4192-89d4-f8ad275a5770"
    },
    {
      "cell_type": "code",
      "execution_count": 10,
      "metadata": {},
      "outputs": [
        {
          "output_type": "stream",
          "name": "stderr",
          "text": [
            "here() starts at /home/datascience/cleaned_aplc_soils_project\n"
          ]
        }
      ],
      "source": [
        "library(tidyverse)\n",
        "library(here)\n",
        "library(jsonlite)\n",
        "library(ggpubr)\n",
        "library(ggridges)\n",
        "library(patchwork)\n",
        "library(janitor)\n",
        "\n",
        "here::i_am('README.md')"
      ],
      "id": "ec20206b-7b64-427c-9129-b668ca57221b"
    },
    {
      "cell_type": "code",
      "execution_count": 11,
      "metadata": {},
      "outputs": [],
      "source": [
        "dl_dat <- read_csv(here('data/processed/dl_survey_remote_sense_data.csv'),show_col_types = FALSE)\n",
        "apl_dat <- read_csv(here('data/processed/apl_survey_remote_sense_data.csv'),show_col_types = FALSE)"
      ],
      "id": "5c6190fc-1e37-4272-b492-aee923195d6d"
    },
    {
      "cell_type": "code",
      "execution_count": 12,
      "metadata": {},
      "outputs": [
        {
          "output_type": "display_data",
          "metadata": {},
          "data": {
            "text/plain": [
              "   polygon_id                LOCPRESENT                           CAT       \n",
              " Min.   :     194   {'present': 1}:80347   {'Adult': 1}             :45430  \n",
              " 1st Qu.: 6370812   {'present': 2}:27959   {'Swarm': 1}             :16224  \n",
              " Median :18340158   {'present': 3}: 8784   {'Hopper': 1}            :11150  \n",
              " Mean   :16149088   {'present': 4}: 4684   {'Hopper': 1, 'Adult': 1}:10673  \n",
              " 3rd Qu.:23582905   {'present': 5}: 2300   {'Band': 1}              : 8325  \n",
              " Max.   :30876401   {'present': 6}: 1620   {'Adult': 2}             : 5969  \n",
              "                    (Other)       : 4996   (Other)                  :32919  \n",
              "               SHP                   GHP                      SAD       \n",
              " {'no': 1}       :70760   {'no': 1}    :75404   {'no': 1}       :37861  \n",
              " {'no': 2}       :17095   {'no': 2}    :24233   {'isolated': 1} :21520  \n",
              " {'group': 1}    : 7374   {'no': 3}    : 6705   {'scattered': 1}:11277  \n",
              " {'no': 3}       : 4971   {'no': 4}    : 3640   {'group': 1}    : 9759  \n",
              " {'group': 2}    : 4682   {'medium': 1}: 1923   {'no': 2}       : 8505  \n",
              " {'scattered': 2}: 2595   {'high': 1}  : 1731   {'group': 2}    : 5670  \n",
              " (Other)         :23213   (Other)      :17054   (Other)         :36098  \n",
              "            GAD       \n",
              " {'no': 1}    :71570  \n",
              " {'no': 2}    :24982  \n",
              " {'no': 3}    : 7500  \n",
              " {'medium': 1}: 5051  \n",
              " {'no': 4}    : 4056  \n",
              " {'no': 5}    : 1956  \n",
              " (Other)      :15575  "
            ]
          }
        }
      ],
      "source": [
        "dl_dat |>\n",
        "    select(polygon_id,LOCPRESENT,CAT,SHP,GHP,SAD,GAD) |>\n",
        "    mutate(across(c(LOCPRESENT,CAT,SHP,GHP,SAD,GAD), ~as.factor(.))) |> summary()"
      ],
      "id": "835dc512-18f2-480e-aa24-19665a782a4c"
    },
    {
      "cell_type": "code",
      "execution_count": 13,
      "metadata": {
        "scrolled": true
      },
      "outputs": [],
      "source": [
        "# cols\n",
        "\n",
        "cols <- c('LOCPRESENT','CAT','SHP','GHP','SAD','GAD','REPRELIAB')\n",
        "\n",
        "# Function to parse the JSON-like strings\n",
        "parse_json_like <- function(x) {\n",
        "  x <- gsub(\"'\", \"\\\"\", x)  # Replace single quotes with double quotes\n",
        "  fromJSON(x)\n",
        "}\n",
        "\n",
        "# Function to unnest a JSON-like column\n",
        "unnest_json_column <- function(data, column_name) {\n",
        "  data |>\n",
        "    select(polygon_id,all_of(column_name)) |>\n",
        "    mutate(temp_col = map(.data[[column_name]], parse_json_like)) |>\n",
        "    unnest_longer(temp_col, indices_to = \"id\") |>\n",
        "    rename(!!paste0(column_name, \"_id\") := id, !!paste0(column_name, \"_value\") := temp_col)\n",
        "}\n",
        "\n",
        "# Unnest each JSON-like column individually\n",
        "unnested_data_list <- list()\n",
        "for (col in cols) {\n",
        "  unnested_data <- unnest_json_column(dl_dat, col)\n",
        "  unnested_data_list[[col]] <- unnested_data\n",
        "}\n",
        "\n",
        "# Combine the unnested columns into a single data frame\n",
        "result <- reduce(unnested_data_list, full_join, by = \"polygon_id\")  |>\n",
        "    select(!any_of(cols))\n"
      ],
      "id": "dc214997-af1e-4a5c-b510-4c50e2540d1f"
    },
    {
      "cell_type": "code",
      "execution_count": 14,
      "metadata": {},
      "outputs": [],
      "source": [
        "dl_dat2 <- dl_dat |>\n",
        "    select(!all_of(cols)) |>\n",
        "    left_join(result,by='polygon_id')  |>\n",
        "    select(!c('Unnamed: 0',geometry_x,geometry_y)) |>\n",
        "    janitor::clean_names()"
      ],
      "id": "75acc7cd-bd30-41d5-82e7-41251b3a8c43"
    },
    {
      "cell_type": "markdown",
      "metadata": {},
      "source": [
        "# Column descriptions\n",
        "\n",
        "-   polygon_id = the id associated with the polygon in the overall\n",
        "    polygon geojson. This is an important grouping variable as all\n",
        "    values are the counts within that polygon\n",
        "\n",
        "-   startdate = this is the min, median, and max time stamp for all\n",
        "    dates within this specific polygon\n",
        "\n",
        "-   \\[x,y\\] = the x and y centroid of the specific polygon id\n",
        "\n",
        "-   total\\_\\* columns = this is the total number of counts per locust\n",
        "    category\n",
        "\n",
        "-   columns ending in ’\\_median’ this is the IRISIC soil grid data\n",
        "\n",
        "-   columns ending in ’\\_ev’ this is the australian soil grid data\n",
        "\n",
        "-   columns starting in ‘bio’ this is the bioclim data\n",
        "\n",
        "-   cat_id = wether the specific row is about adults, hoppers, swarms,\n",
        "    or bands (this is originall four datafames I concatted together)\n",
        "\n",
        "    -   cat_value = count within that specific cat (stands for category)\n",
        "\n",
        "-   locpresent\\_\\* columns = reported presence/absence of locusts\n",
        "\n",
        "-   shp\\_\\* columns = solitarious hopper observations\n",
        "\n",
        "-   ghp\\_\\* columns = gregarious hoppper observations\n",
        "\n",
        "-   sad\\_\\* columns = solitarius adult observations\n",
        "\n",
        "-   gad\\_\\* columns = gregarious adult obsercations\n",
        "\n",
        "-   repreliab\\_\\* columns = is the number of reliable or not\n",
        "    oberservations within polygon_id\n",
        "\n",
        "other columns should be self explanatory"
      ],
      "id": "c3344f51-1ad5-439a-a8a5-c6a322389c47"
    },
    {
      "cell_type": "code",
      "execution_count": 15,
      "metadata": {},
      "outputs": [],
      "source": [
        "env_var_cols = c('x0_bdod_median', 'x10_silt_median', 'x1_cec_median', 'x2_cfvo_median', 'x3_clay_median', \n",
        "                 'x4_nitrogen_median', 'x5_ocd_median', 'x6_ocs_single_band', 'x7_phh2o_median', 'x8_sand_median', \n",
        "                 'x9_soc_median','bio01', 'bio02', 'bio03', 'bio04', 'bio05', 'bio06', 'bio07', 'bio08', 'bio09', 'bio10', \n",
        "                 'bio11', 'bio12', 'bio13', 'bio14', 'bio15', 'bio16', 'bio17', 'bio18', 'bio19', 'elevation', 'p_hc_p_hc_000_005_ev',\n",
        "                 'p_hc_p_hc_005_015_ev', 'tree_canopy_cover')\n",
        "\n",
        "hopper_dat <- dl_dat2 |>\n",
        "    select(polygon_id,x,y,total_shp_count,total_ghp_count,shp_id,shp_value,ghp_id,ghp_value,all_of(env_var_cols))"
      ],
      "id": "5d8ae494-9984-45b2-99db-e24a90b441e6"
    },
    {
      "cell_type": "markdown",
      "metadata": {},
      "source": [
        "Below is how I classify what an ‘outbreak’ is. It is roughly based on\n",
        "the `shp` and `ghp` columns.\n",
        "\n",
        "Basically, if you are have a higher denisty rating than ‘low’ in\n",
        "`ghp_id` I considered it an outbreak, but there are some exceptions\n",
        "here."
      ],
      "id": "47ae06d1-3f20-462d-9121-d1d564b3dce1"
    },
    {
      "cell_type": "code",
      "execution_count": 16,
      "metadata": {
        "scrolled": true
      },
      "outputs": [],
      "source": [
        "\n",
        "hopper_classification_table <- hopper_dat |>\n",
        "    select(shp_id,ghp_id) |>\n",
        "    distinct() |>\n",
        "    mutate(hopper_classification = case_when(shp_id == 'group' & ghp_id == 'high' ~ 'outbreak',\n",
        "                                             shp_id == 'group' & ghp_id == 'low' ~ 'outbreak',\n",
        "                                             shp_id == 'group' & ghp_id == 'low_high' ~ 'outbreak',\n",
        "                                             shp_id == 'group' & ghp_id == 'low_medium' ~ 'outbreak',\n",
        "                                             shp_id == 'group' & ghp_id == 'low_medium_high' ~ 'outbreak',\n",
        "                                             shp_id == 'group' & ghp_id == 'medium' ~ 'outbreak',\n",
        "                                             shp_id == 'group' & ghp_id == 'medium_high' ~ 'outbreak',\n",
        "                                             shp_id == 'group' & ghp_id == 'no' ~ 'non-outbreak',\n",
        "                                             shp_id == 'group' & ghp_id == 'unkown' ~ 'non-outbreak',\n",
        "                                             shp_id == 'isolated' & ghp_id == 'high' ~ 'outbreak',\n",
        "                                             shp_id == 'isolated' & ghp_id == 'low' ~ 'non-outbreak',\n",
        "                                             shp_id == 'isolated' & ghp_id == 'low_high' ~ 'outbreak',\n",
        "                                             shp_id == 'isolated' & ghp_id == 'low_medium' ~ 'outbreak',\n",
        "                                             shp_id == 'isolated' & ghp_id == 'low_medium_high' ~ 'outbreak',\n",
        "                                             shp_id == 'isolated' & ghp_id == 'medium' ~ 'outbreak',\n",
        "                                             shp_id == 'isolated' & ghp_id == 'medium_high' ~ 'outbreak',\n",
        "                                             shp_id == 'isolated' & ghp_id == 'no' ~ 'non-outbreak',\n",
        "                                             shp_id == 'isolated' & ghp_id == 'unkown' ~ 'non-outbreak',\n",
        "                                             shp_id == 'isolated_group' & ghp_id == 'high' ~ 'outbreak',\n",
        "                                             shp_id == 'isolated_group' & ghp_id == 'low' ~ 'non-outbreak',\n",
        "                                             shp_id == 'isolated_group' & ghp_id == 'low_high' ~ 'outbreak',\n",
        "                                             shp_id == 'isolated_group' & ghp_id == 'low_medium' ~ 'outbreak',\n",
        "                                             shp_id == 'isolated_group' & ghp_id == 'low_medium_high' ~ 'outbreak',\n",
        "                                             shp_id == 'isolated_group' & ghp_id == 'medium' ~ 'outbreak',\n",
        "                                             shp_id == 'isolated_group' & ghp_id == 'medium_high' ~ 'outbreak',\n",
        "                                             shp_id == 'isolated_group' & ghp_id == 'no' ~ 'non-outbreak',\n",
        "                                             shp_id == 'isolated_group' & ghp_id == 'unkown' ~ 'non-outbreak',\n",
        "                                             shp_id == 'isolated_scattered' & ghp_id == 'high' ~ 'outbreak',\n",
        "                                             shp_id == 'isolated_scattered' & ghp_id == 'low' ~ 'non-outbreak',\n",
        "                                             shp_id == 'isolated_scattered' & ghp_id == 'low_high' ~ 'outbreak',\n",
        "                                             shp_id == 'isolated_scattered' & ghp_id == 'low_medium' ~ 'outbreak',\n",
        "                                             shp_id == 'isolated_scattered' & ghp_id == 'low_medium_high' ~ 'outbreak',\n",
        "                                             shp_id == 'isolated_scattered' & ghp_id == 'medium' ~ 'outbreak',\n",
        "                                             shp_id == 'isolated_scattered' & ghp_id == 'medium_high' ~ 'outbreak',\n",
        "                                             shp_id == 'isolated_scattered' & ghp_id == 'no' ~ 'non-outbreak',\n",
        "                                             shp_id == 'isolated_scattered' & ghp_id == 'unkown' ~ 'non-outbreak',\n",
        "                                             shp_id == 'isolated_scattered_group' & ghp_id == 'high' ~ 'outbreak',\n",
        "                                             shp_id == 'isolated_scattered_group' & ghp_id == 'low' ~ 'outbreak',\n",
        "                                             shp_id == 'isolated_scattered_group' & ghp_id == 'low_high' ~ 'outbreak',\n",
        "                                             shp_id == 'isolated_scattered_group' & ghp_id == 'low_medium' ~ 'outbreak',\n",
        "                                             shp_id == 'isolated_scattered_group' & ghp_id == 'low_medium_high' ~ 'outbreak',\n",
        "                                             shp_id == 'isolated_scattered_group' & ghp_id == 'medium' ~ 'outbreak',\n",
        "                                             shp_id == 'isolated_scattered_group' & ghp_id == 'medium_high' ~ 'outbreak',\n",
        "                                             shp_id == 'isolated_scattered_group' & ghp_id == 'no' ~ 'non-outbreak',\n",
        "                                             shp_id == 'isolated_scattered_group' & ghp_id == 'unkown' ~ 'non-outbreak',\n",
        "                                             shp_id == 'no' & ghp_id == 'high' ~ 'outbreak',\n",
        "                                             shp_id == 'no' & ghp_id == 'low' ~ 'non-outbreak',\n",
        "                                             shp_id == 'no' & ghp_id == 'low_high' ~ 'outbreak',\n",
        "                                             shp_id == 'no' & ghp_id == 'low_medium' ~ 'outbreak',\n",
        "                                             shp_id == 'no' & ghp_id == 'low_medium_high' ~ 'outbreak',\n",
        "                                             shp_id == 'no' & ghp_id == 'medium' ~ 'outbreak',\n",
        "                                             shp_id == 'no' & ghp_id == 'medium_high' ~ 'outbreak',\n",
        "                                             shp_id == 'no' & ghp_id == 'no' ~ 'non-outbreak',\n",
        "                                             shp_id == 'no' & ghp_id == 'unkown' ~ 'non-outbreak',\n",
        "                                             shp_id == 'scattered' & ghp_id == 'high' ~ 'outbreak',\n",
        "                                             shp_id == 'scattered' & ghp_id == 'low' ~ 'non-outbreak',\n",
        "                                             shp_id == 'scattered' & ghp_id == 'low_high' ~ 'outbreak',\n",
        "                                             shp_id == 'scattered' & ghp_id == 'low_medium' ~ 'outbreak',\n",
        "                                             shp_id == 'scattered' & ghp_id == 'low_medium_high' ~ 'outbreak',\n",
        "                                             shp_id == 'scattered' & ghp_id == 'medium' ~ 'outbreak',\n",
        "                                             shp_id == 'scattered' & ghp_id == 'medium_high' ~ 'outbreak',\n",
        "                                             shp_id == 'scattered' & ghp_id == 'no' ~ 'non-outbreak',\n",
        "                                             shp_id == 'scattered' & ghp_id == 'unkown' ~ 'non-outbreak',\n",
        "                                             shp_id == 'scattered_group' & ghp_id == 'high' ~ 'outbreak',\n",
        "                                             shp_id == 'scattered_group' & ghp_id == 'low' ~ 'outbreak',\n",
        "                                             shp_id == 'scattered_group' & ghp_id == 'low_high' ~ 'outbreak',\n",
        "                                             shp_id == 'scattered_group' & ghp_id == 'low_medium' ~ 'outbreak',\n",
        "                                             shp_id == 'scattered_group' & ghp_id == 'low_medium_high' ~ 'outbreak',\n",
        "                                             shp_id == 'scattered_group' & ghp_id == 'medium' ~ 'outbreak',\n",
        "                                             shp_id == 'scattered_group' & ghp_id == 'medium_high' ~ 'outbreak',\n",
        "                                             shp_id == 'scattered_group' & ghp_id == 'no' ~ 'non-outbreak',\n",
        "                                             shp_id == 'scattered_group' & ghp_id == 'unkown' ~ 'non-outbreak',\n",
        "                                             shp_id == 'unkown' & ghp_id == 'high' ~ 'outbreak',\n",
        "                                             shp_id == 'unkown' & ghp_id == 'low' ~ 'non-outbreak',\n",
        "                                             shp_id == 'unkown' & ghp_id == 'low_high' ~ 'outbreak',\n",
        "                                             shp_id == 'unkown' & ghp_id == 'low_medium' ~ 'outbreak',\n",
        "                                             shp_id == 'unkown' & ghp_id == 'low_medium_high' ~ 'outbreak',\n",
        "                                             shp_id == 'unkown' & ghp_id == 'medium' ~ 'outbreak',\n",
        "                                             shp_id == 'unkown' & ghp_id == 'medium_high' ~ 'outbreak',\n",
        "                                             shp_id == 'unkown' & ghp_id == 'no' ~ 'non-outbreak',\n",
        "                                             shp_id == 'unkown' & ghp_id == 'unkown' ~ 'unkown', TRUE ~ NA))\n",
        "                                             "
      ],
      "id": "89bbf71c-0c25-4b71-acf4-e2c83e8eab34"
    },
    {
      "cell_type": "code",
      "execution_count": 17,
      "metadata": {},
      "outputs": [
        {
          "output_type": "display_data",
          "metadata": {},
          "data": {}
        }
      ],
      "source": [
        "env_dat <- hopper_dat |>\n",
        "    select(all_of(env_var_cols),polygon_id,x,y)\n",
        "\n",
        "head(env_dat)"
      ],
      "id": "a698a451-00c3-479c-a7fc-dbc62c2ecd05"
    },
    {
      "cell_type": "code",
      "execution_count": 18,
      "metadata": {},
      "outputs": [
        {
          "output_type": "stream",
          "name": "stderr",
          "text": [
            "`summarise()` has grouped output by 'polygon_id'. You can override using the\n",
            "`.groups` argument."
          ]
        }
      ],
      "source": [
        "hopper_env_dat <- hopper_dat |>\n",
        "    select(!all_of(env_var_cols)) |>\n",
        "    select(!c(x,y)) |>\n",
        "    left_join(hopper_classification_table,by=c('shp_id','ghp_id')) |>\n",
        "    select(!c(shp_id,ghp_id)) |>\n",
        "    group_by(polygon_id,hopper_classification) |>\n",
        "    summarize(n = n(),polygon_id=first(polygon_id))|>\n",
        "    pivot_wider(names_from = hopper_classification,values_from = n,values_fill = 0) |>\n",
        "    left_join(env_dat,by='polygon_id')\n",
        "              "
      ],
      "id": "b6d56ec7-284c-4b97-ae94-a8ff4c29bffa"
    },
    {
      "cell_type": "code",
      "execution_count": 19,
      "metadata": {},
      "outputs": [],
      "source": [
        "# Human readable names \n",
        "\n",
        "rs_metadata <- read_csv(here('data/metadata/remote_sensed_variable_descriptions.csv'),show_col_types = FALSE) |>\n",
        "    select(variable_name,short_description,conversion_factor) |>\n",
        "    mutate(short_description = tolower(short_description),\n",
        "          conversion_factor = replace_na(conversion_factor,replace = 1))  |>\n",
        "  mutate(short_description_file_name = str_replace_all(short_description, \"[^[:alnum:] ]\", \"\"),\n",
        "         short_description_file_name = str_replace_all(short_description_file_name, \" \", \"_\"))"
      ],
      "id": "f77b9003-f86b-4149-8c2f-cc7cbd04e99b"
    },
    {
      "cell_type": "code",
      "execution_count": 20,
      "metadata": {
        "scrolled": true
      },
      "outputs": [
        {
          "output_type": "stream",
          "name": "stdout",
          "text": [
            "[1] \"Now computing bdod_median\""
          ]
        }
      ],
      "source": [
        "\n",
        "env_var <- gsub(\"x[0-9]+_\", \"\", env_var_cols)\n",
        "\n",
        "create_plot <- function(data, x_var, y_var, conversion_rate, title, y_label) {\n",
        "    ggplot(data, aes_string(x = x_var, y = paste0(\".data[[i]] * \", conversion_rate))) +\n",
        "        geom_point(pch=21, alpha=0.02) +\n",
        "        geom_smooth(se=FALSE) +\n",
        "        theme_pubr() +\n",
        "        xlab('') +\n",
        "        ylab(y_label) +\n",
        "        ggtitle(title)\n",
        "}\n",
        "\n",
        "for (i in env_var) {\n",
        "    print(paste0('Now computing ', i))\n",
        "    \n",
        "    env_variable_name <- rs_metadata |>\n",
        "        filter(variable_name == i) |>\n",
        "        pull(short_description)\n",
        "    \n",
        "    conversion_rate <- rs_metadata |>\n",
        "        filter(variable_name == i) %>%\n",
        "        pull(conversion_factor) %>%\n",
        "        ifelse(is.na(.), 1, .)\n",
        "\n",
        "    file_name <- rs_metadata |>\n",
        "        filter(variable_name == i) %>%\n",
        "        pull(short_description_file_name)\n",
        "\n",
        "    \n",
        "    outbreak_plot <- create_plot(hopper_env_dat, 'outbreak', i, conversion_rate, 'Outbreaks', env_variable_name)\n",
        "    nonoutbreak_plot <- create_plot(hopper_env_dat, '`non-outbreak`', i, conversion_rate, 'Non-outbreaks', env_variable_name)\n",
        "    unknown_plot <- create_plot(hopper_env_dat, 'unkown', i, conversion_rate, 'Unknown', env_variable_name)\n",
        "    \n",
        "    ridgeline_plot <- hopper_env_dat %>%\n",
        "        ungroup() %>%\n",
        "        pivot_longer(c(`non-outbreak`, outbreak, unkown), names_to = 'locust_category', values_to = 'number_observations') %>%\n",
        "        ggplot(aes(y = locust_category, x = number_observations)) +\n",
        "            geom_density_ridges() +\n",
        "            scale_x_continuous(trans = 'sqrt') +\n",
        "            ylab('') +\n",
        "            xlab('number of observations (sqrt)') +\n",
        "            ggtitle('observation distribution') +\n",
        "            theme_pubr()\n",
        "    \n",
        "    combined_plots <- (outbreak_plot + nonoutbreak_plot) / (unknown_plot + ridgeline_plot) + plot_annotation(title = env_variable_name)\n",
        "    \n",
        "    suppressMessages(suppressWarnings(\n",
        "        ggsave(combined_plots,\n",
        "               file = here(paste0('output/spatial_modeling/raw_data_viz/point_data_viz/', file_name, '.png')),\n",
        "               width = 10, height = 10)\n",
        "    ))\n",
        "}"
      ],
      "id": "8c525dec-2436-4340-8f8d-c582ae6a766d"
    },
    {
      "cell_type": "markdown",
      "metadata": {},
      "source": [
        "# lets just try to build a predictive model"
      ],
      "id": "bc3256dc-5b11-465e-bfd1-5ada2ebd08ca"
    },
    {
      "cell_type": "code",
      "execution_count": 79,
      "metadata": {},
      "outputs": [
        {
          "output_type": "display_data",
          "metadata": {},
          "data": {
            "text/html": [
              "<style>\n",
              ".list-inline {list-style: none; margin:0; padding: 0}\n",
              ".list-inline>li {display: inline-block}\n",
              ".list-inline>li:not(:last-child)::after {content: \"\\00b7\"; padding: 0 .5ex}\n",
              "</style>\n",
              "<ol class=list-inline><li>'polygon_id'</li><li>'non-outbreak'</li><li>'outbreak'</li><li>'unkown'</li><li>'x0_bdod_median'</li><li>'x10_silt_median'</li><li>'x1_cec_median'</li><li>'x2_cfvo_median'</li><li>'x3_clay_median'</li><li>'x4_nitrogen_median'</li><li>'x5_ocd_median'</li><li>'x6_ocs_single_band'</li><li>'x7_phh2o_median'</li><li>'x8_sand_median'</li><li>'x9_soc_median'</li><li>'bio01'</li><li>'bio02'</li><li>'bio03'</li><li>'bio04'</li><li>'bio05'</li><li>'bio06'</li><li>'bio07'</li><li>'bio08'</li><li>'bio09'</li><li>'bio10'</li><li>'bio11'</li><li>'bio12'</li><li>'bio13'</li><li>'bio14'</li><li>'bio15'</li><li>'bio16'</li><li>'bio17'</li><li>'bio18'</li><li>'bio19'</li><li>'elevation'</li><li>'p_hc_p_hc_000_005_ev'</li><li>'p_hc_p_hc_005_015_ev'</li><li>'tree_canopy_cover'</li><li>'x'</li><li>'y'</li></ol>"
            ]
          }
        },
        {
          "output_type": "display_data",
          "metadata": {},
          "data": {
            "text/html": [
              "<style>\n",
              ".list-inline {list-style: none; margin:0; padding: 0}\n",
              ".list-inline>li {display: inline-block}\n",
              ".list-inline>li:not(:last-child)::after {content: \"\\00b7\"; padding: 0 .5ex}\n",
              "</style>\n",
              "<ol class=list-inline><li>'bdod_median'</li><li>'silt_median'</li><li>'cec_median'</li><li>'cfvo_median'</li><li>'clay_median'</li><li>'nitrogen_median'</li><li>'ocd_median'</li><li>'ocs_single_band'</li><li>'phh2o_median'</li><li>'sand_median'</li><li>'soc_median'</li><li>'bio01'</li><li>'bio02'</li><li>'bio03'</li><li>'bio04'</li><li>'bio05'</li><li>'bio06'</li><li>'bio07'</li><li>'bio08'</li><li>'bio09'</li><li>'bio10'</li><li>'bio11'</li><li>'bio12'</li><li>'bio13'</li><li>'bio14'</li><li>'bio15'</li><li>'bio16'</li><li>'bio17'</li><li>'bio18'</li><li>'bio19'</li><li>'elevation'</li><li>'tree_canopy_cover'</li></ol>"
            ]
          }
        }
      ],
      "source": [
        "names(hopper_env_dat)\n",
        "env_vars <- gsub(\"x[0-9]+_\", \"\", (env_var))\n",
        "\n",
        "# Create a list of elements to remove\n",
        "remove_elements <- c(\"p_hc_p_hc_000_005_ev\", \"p_hc_p_hc_005_015_ev\")\n",
        "\n",
        "# Filter the list to remove specific elements\n",
        "env_vars <- env_vars[!env_vars %in% remove_elements]\n",
        "env_vars"
      ],
      "id": "d6507030-74f7-417a-bbdd-026671ce38c6"
    },
    {
      "cell_type": "code",
      "execution_count": 91,
      "metadata": {},
      "outputs": [
        {
          "output_type": "display_data",
          "metadata": {},
          "data": {
            "text/html": [
              "<style>\n",
              ".list-inline {list-style: none; margin:0; padding: 0}\n",
              ".list-inline>li {display: inline-block}\n",
              ".list-inline>li:not(:last-child)::after {content: \"\\00b7\"; padding: 0 .5ex}\n",
              "</style>\n",
              "<ol class=list-inline><li>'x0_bdod_median'</li><li>'x10_silt_median'</li><li>'x1_cec_median'</li><li>'x2_cfvo_median'</li><li>'x3_clay_median'</li><li>'x4_nitrogen_median'</li><li>'x5_ocd_median'</li><li>'x6_ocs_single_band'</li><li>'x7_phh2o_median'</li><li>'x8_sand_median'</li><li>'x9_soc_median'</li><li>'bio01'</li><li>'bio02'</li><li>'bio03'</li><li>'bio04'</li><li>'bio05'</li><li>'bio06'</li><li>'bio07'</li><li>'bio08'</li><li>'bio09'</li><li>'bio10'</li><li>'bio11'</li><li>'bio12'</li><li>'bio13'</li><li>'bio14'</li><li>'bio15'</li><li>'bio16'</li><li>'bio17'</li><li>'bio18'</li><li>'bio19'</li><li>'elevation'</li><li>'tree_canopy_cover'</li><li>'outbreak'</li><li>'geometry'</li></ol>"
            ]
          }
        },
        {
          "output_type": "display_data",
          "metadata": {},
          "data": {}
        }
      ],
      "source": [
        "mod_dat <- hopper_env_dat |>\n",
        "    ungroup() |>\n",
        "    select(any_of(env_var_cols),outbreak,x,y) |>\n",
        "    select(!c(p_hc_p_hc_000_005_ev,p_hc_p_hc_005_015_ev)) |>\n",
        "    sf::st_as_sf(coords = c(\"x\", \"y\")) |>\n",
        "    drop_na()\n",
        "\n",
        "names(mod_dat)\n",
        "head(mod_dat)"
      ],
      "id": "81a292be-a800-4ed7-8c28-586ea74ddda2"
    },
    {
      "cell_type": "code",
      "execution_count": 92,
      "metadata": {},
      "outputs": [
        {
          "output_type": "stream",
          "name": "stderr",
          "text": [
            "Warning message in spatial_block_cv(mod_dat, v = 5):\n",
            "“`spatial_block_cv()` expects your data to have an appropriate coordinate reference system (CRS).\n",
            "ℹ If possible, try setting a CRS using `sf::st_set_crs()`.\n",
            "ℹ Otherwise, `spatial_block_cv()` will assume your data is in projected coordinates.”"
          ]
        }
      ],
      "source": [
        "library(tidymodels)\n",
        "library(doParallel)\n",
        "library(ranger)\n",
        "\n",
        "set.seed(123)\n",
        "good_folds <- spatial_block_cv(mod_dat, v = 5)"
      ],
      "id": "f07087e9-deb3-42db-adbe-fee794dec718"
    },
    {
      "cell_type": "code",
      "execution_count": 93,
      "metadata": {},
      "outputs": [
        {
          "output_type": "display_data",
          "metadata": {},
          "data": {
            "text/plain": [
              "outbreak ~ x0_bdod_median + x10_silt_median + x1_cec_median + \n",
              "    x2_cfvo_median + x3_clay_median + x4_nitrogen_median + x5_ocd_median + \n",
              "    x6_ocs_single_band + x7_phh2o_median + x8_sand_median + x9_soc_median + \n",
              "    bio01 + bio02 + bio03 + bio04 + bio05 + bio06 + bio07 + bio08 + \n",
              "    bio09 + bio10 + bio11 + bio12 + bio13 + bio14 + bio15 + bio16 + \n",
              "    bio17 + bio18 + bio19 + elevation + tree_canopy_cover"
            ]
          }
        }
      ],
      "source": [
        "\n",
        "# Create a list of elements to remove\n",
        "remove_elements <- c(\"p_hc_p_hc_000_005_ev\", \"p_hc_p_hc_005_015_ev\")\n",
        "\n",
        "# Filter the list to remove specific elements\n",
        "env_var_cols2 <- env_var_cols[!env_var_cols %in% remove_elements]\n",
        "\n",
        "\n",
        "env_vars_str <- paste(env_var_cols2, collapse = \" + \")\n",
        "\n",
        "\n",
        "# Create the full formula string\n",
        "formula_str <- paste(\"outbreak ~\", env_vars_str)\n",
        "\n",
        "# Convert the string to a formula\n",
        "\n",
        "model_formula <- as.formula(formula_str)\n",
        "model_formula"
      ],
      "id": "1c879722-63d7-4e04-9c4c-2126f30f1f8c"
    },
    {
      "cell_type": "code",
      "execution_count": 94,
      "metadata": {},
      "outputs": [],
      "source": [
        "\n",
        "# Define the model specification with importance and set the engine\n",
        "rf_spec <- rand_forest(\n",
        "    mode = 'regression',\n",
        "    engine = 'ranger',\n",
        "    trees = 2000) %>% \n",
        "    set_engine('ranger', importance = \"impurity\")\n",
        "\n",
        "# Define the workflow\n",
        "form <- model_formula\n",
        "\n",
        "rf_wf <- workflow() %>%\n",
        "    add_formula(form) %>%\n",
        "    add_model(rf_spec)\n",
        "\n",
        "# Perform cross-validation\n",
        "set.seed(123)  # For reproducibility\n",
        "cv_results <- fit_resamples(\n",
        "    rf_wf,\n",
        "    resamples = good_folds,\n",
        "    metrics = metric_set(rmse, rsq),\n",
        "    control = control_resamples(save_pred = TRUE)\n",
        ")\n",
        "\n",
        "# Collect metrics\n",
        "cv_metrics <- collect_metrics(cv_results)\n",
        "\n",
        "# Final model fit on the full dataset\n",
        "final_rf <- rf_wf %>%\n",
        "    fit(data = mod_dat)\n"
      ],
      "id": "9a5ba014-5d9f-476b-a32b-35cf94054a95"
    },
    {
      "cell_type": "code",
      "execution_count": 90,
      "metadata": {},
      "outputs": [
        {
          "output_type": "stream",
          "name": "stdout",
          "text": [
            "unique notes:\n",
            "────────────────────────────────────────────────────────────────────────────────\n",
            "Error: Missing data in columns: x0_bdod_median, x10_silt_median, x1_cec_median, x2_cfvo_median, x3_clay_median, x4_nitrogen_median, x5_ocd_median, x6_ocs_single_band, x7_phh2o_median, x8_sand_median, x9_soc_median, bio01, bio02, bio03, bio04, bio05, bio06, bio07, bio08, bio09, bio10, bio11, bio12, bio13, bio14, bio15, bio16, bio17, bio18, bio19, elevation, tree_canopy_cover."
          ]
        }
      ],
      "source": [
        "show_notes(.Last.tune.result)"
      ],
      "id": "50b7efd2-7f9d-41a5-b795-987fec1512a3"
    },
    {
      "cell_type": "code",
      "execution_count": 96,
      "metadata": {},
      "outputs": [
        {
          "output_type": "display_data",
          "metadata": {},
          "data": {
            "text/html": [
              "<pre>══ Workflow [trained] ══════════════════════════════════════════════════════════\n",
              "<span style=\"font-style:italic\">Preprocessor:</span> Formula\n",
              "<span style=\"font-style:italic\">Model:</span> rand_forest()\n",
              "── Preprocessor ────────────────────────────────────────────────────────────────\n",
              "outbreak ~ x0_bdod_median + x10_silt_median + x1_cec_median + \n",
              "    x2_cfvo_median + x3_clay_median + x4_nitrogen_median + x5_ocd_median + \n",
              "    x6_ocs_single_band + x7_phh2o_median + x8_sand_median + x9_soc_median + \n",
              "    bio01 + bio02 + bio03 + bio04 + bio05 + bio06 + bio07 + bio08 + \n",
              "    bio09 + bio10 + bio11 + bio12 + bio13 + bio14 + bio15 + bio16 + \n",
              "    bio17 + bio18 + bio19 + elevation + tree_canopy_cover\n",
              "── Model ───────────────────────────────────────────────────────────────────────\n",
              "Ranger result\n",
              "Call:\n",
              " ranger::ranger(x = maybe_data_frame(x), y = y, num.trees = ~2000,      importance = ~\"impurity\", num.threads = 1, verbose = FALSE,      seed = sample.int(10^5, 1)) \n",
              "Type:                             Regression \n",
              "Number of trees:                  2000 \n",
              "Sample size:                      370768 \n",
              "Number of independent variables:  32 \n",
              "Mtry:                             5 \n",
              "Target node size:                 5 \n",
              "Variable importance mode:         impurity \n",
              "Splitrule:                        variance \n",
              "OOB prediction error (MSE):       0.6358686 \n",
              "R squared (OOB):                  0.9997683 </pre>"
            ]
          }
        }
      ],
      "source": [
        "final_rf"
      ],
      "id": "b58e2eff-e53c-4bfa-b915-b26605bf74b7"
    }
  ],
  "nbformat": 4,
  "nbformat_minor": 5,
  "metadata": {
    "kernelspec": {
      "name": "ir",
      "display_name": "R",
      "language": "R"
    },
    "language_info": {
      "name": "R",
      "codemirror_mode": "r",
      "file_extension": ".r",
      "mimetype": "text/x-r-source",
      "pygments_lexer": "r",
      "version": "4.4.0"
    }
  }
}