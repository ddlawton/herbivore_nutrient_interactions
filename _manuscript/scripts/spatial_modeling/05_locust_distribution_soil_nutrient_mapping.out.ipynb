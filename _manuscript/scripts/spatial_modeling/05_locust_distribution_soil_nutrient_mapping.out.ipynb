{
 "cells": [
  {
   "cell_type": "markdown",
   "metadata": {},
   "source": [
    "#"
   ],
   "id": "0ac75a50-25dd-4a8e-bd13-0cd737deb2e6"
  },
  {
   "cell_type": "code",
   "execution_count": 2,
   "metadata": {},
   "outputs": [],
   "source": [
    "import ee\n",
    "import pandas as pd\n",
    "import geopandas as gpd\n",
    "import geemap\n",
    "import os\n",
    "from tqdm import tqdm\n",
    "from shapely import wkt\n",
    "from shapely.geometry import mapping\n",
    "\n",
    "#ee.Authenticate()\n",
    "ee.Initialize()"
   ],
   "id": "6cfad1ab-3e8c-45a2-adaa-9a0d6eaadcfd"
  },
  {
   "cell_type": "code",
   "execution_count": 6,
   "metadata": {},
   "outputs": [
    {
     "output_type": "display_data",
     "metadata": {},
     "data": {
      "text/html": [
       "\n",
       "            <style>\n",
       "                .geemap-dark {\n",
       "                    --jp-widgets-color: white;\n",
       "                    --jp-widgets-label-color: white;\n",
       "                    --jp-ui-font-color1: white;\n",
       "                    --jp-layout-color2: #454545;\n",
       "                    background-color: #383838;\n",
       "                }\n",
       "\n",
       "                .geemap-dark .jupyter-button {\n",
       "                    --jp-layout-color3: #383838;\n",
       "                }\n",
       "\n",
       "                .geemap-colab {\n",
       "                    background-color: var(--colab-primary-surface-color, white);\n",
       "                }\n",
       "\n",
       "                .geemap-colab .jupyter-button {\n",
       "                    --jp-layout-color3: var(--colab-primary-surface-color, white);\n",
       "                }\n",
       "            </style>\n",
       "            "
      ]
     }
    }
   ],
   "source": [
    "os.chdir(os.path.abspath(os.path.join(os.getcwd(), os.pardir)))"
   ],
   "id": "60b06384-943f-4428-961e-bb570bedae1f"
  },
  {
   "cell_type": "code",
   "execution_count": 7,
   "metadata": {},
   "outputs": [
    {
     "output_type": "display_data",
     "metadata": {},
     "data": {
      "text/html": [
       "\n",
       "            <style>\n",
       "                .geemap-dark {\n",
       "                    --jp-widgets-color: white;\n",
       "                    --jp-widgets-label-color: white;\n",
       "                    --jp-ui-font-color1: white;\n",
       "                    --jp-layout-color2: #454545;\n",
       "                    background-color: #383838;\n",
       "                }\n",
       "\n",
       "                .geemap-dark .jupyter-button {\n",
       "                    --jp-layout-color3: #383838;\n",
       "                }\n",
       "\n",
       "                .geemap-colab {\n",
       "                    background-color: var(--colab-primary-surface-color, white);\n",
       "                }\n",
       "\n",
       "                .geemap-colab .jupyter-button {\n",
       "                    --jp-layout-color3: var(--colab-primary-surface-color, white);\n",
       "                }\n",
       "            </style>\n",
       "            "
      ]
     }
    },
    {
     "output_type": "display_data",
     "metadata": {},
     "data": {
      "text/plain": [
       "'/home/datascience/herbivore_nutrient_interactions'"
      ]
     }
    }
   ],
   "source": [
    "os.getcwd()"
   ],
   "id": "10724d32-761b-46c4-aa66-190ed4ecc066"
  },
  {
   "cell_type": "code",
   "execution_count": 12,
   "metadata": {},
   "outputs": [
    {
     "output_type": "display_data",
     "metadata": {},
     "data": {
      "text/html": [
       "\n",
       "            <style>\n",
       "                .geemap-dark {\n",
       "                    --jp-widgets-color: white;\n",
       "                    --jp-widgets-label-color: white;\n",
       "                    --jp-ui-font-color1: white;\n",
       "                    --jp-layout-color2: #454545;\n",
       "                    background-color: #383838;\n",
       "                }\n",
       "\n",
       "                .geemap-dark .jupyter-button {\n",
       "                    --jp-layout-color3: #383838;\n",
       "                }\n",
       "\n",
       "                .geemap-colab {\n",
       "                    background-color: var(--colab-primary-surface-color, white);\n",
       "                }\n",
       "\n",
       "                .geemap-colab .jupyter-button {\n",
       "                    --jp-layout-color3: var(--colab-primary-surface-color, white);\n",
       "                }\n",
       "            </style>\n",
       "            "
      ]
     }
    },
    {
     "output_type": "display_data",
     "metadata": {},
     "data": {
      "text/html": [
       "<script type=\"application/vnd.jupyter.widget-view+json\">\n",
       "{\"model_id\":\"ebd875c77a1d4d70bc86c27d2b9f6ee4\",\"version_major\":2,\"version_minor\":0,\"quarto_mimetype\":\"application/vnd.jupyter.widget-view+json\"}\n",
       "</script>"
      ]
     }
    }
   ],
   "source": [
    "\n",
    "# Path to your shapefile\n",
    "shapefile_path = \"data/raw/survey_data/australian_plague_locut_distribution/Australia_Locust_Distribution.shp\"\n",
    "\n",
    "# Read the shapefile using GeoPandas\n",
    "gdf = gpd.read_file(shapefile_path)\n",
    "\n",
    "# Convert the GeoPandas GeoDataFrame to an Earth Engine FeatureCollection\n",
    "apl_map = geemap.geopandas_to_ee(gdf)\n",
    "\n",
    "# Example of using it for further analysis in Google Earth Engine\n",
    "Map = geemap.Map()\n",
    "Map.centerObject(ee_fc)\n",
    "Map.addLayer(ee_fc, {}, \"Shapefile Layer\")\n",
    "Map"
   ],
   "id": "b45a955a-5df4-458d-9957-82bf317ba662"
  },
  {
   "cell_type": "code",
   "execution_count": 56,
   "metadata": {},
   "outputs": [
    {
     "output_type": "display_data",
     "metadata": {},
     "data": {
      "text/html": [
       "\n",
       "            <style>\n",
       "                .geemap-dark {\n",
       "                    --jp-widgets-color: white;\n",
       "                    --jp-widgets-label-color: white;\n",
       "                    --jp-ui-font-color1: white;\n",
       "                    --jp-layout-color2: #454545;\n",
       "                    background-color: #383838;\n",
       "                }\n",
       "\n",
       "                .geemap-dark .jupyter-button {\n",
       "                    --jp-layout-color3: #383838;\n",
       "                }\n",
       "\n",
       "                .geemap-colab {\n",
       "                    background-color: var(--colab-primary-surface-color, white);\n",
       "                }\n",
       "\n",
       "                .geemap-colab .jupyter-button {\n",
       "                    --jp-layout-color3: var(--colab-primary-surface-color, white);\n",
       "                }\n",
       "            </style>\n",
       "            "
      ]
     }
    }
   ],
   "source": [
    "# Australia soil grid\n",
    "\n",
    "# Load the Australian Soil Grid image collection.\n",
    "soil_collection = ee.ImageCollection(\"CSIRO/SLGA\")\n",
    "\n",
    "nitrogen = soil_collection.filter(ee.Filter.inList('system:index', ['NTO'])).select(['NTO_000_005_EV','NTO_005_015_EV']).mean()\n",
    "\n",
    "avg_nitrogen = nitrogen.expression(\n",
    "    '(b1 + b2) / 2', {\n",
    "        'b1': nitrogen.select('NTO_000_005_EV'),\n",
    "        'b2': nitrogen.select('NTO_005_015_EV')\n",
    "    }\n",
    ").rename('avg_nto_band').clip(apl_map)\n",
    "\n",
    "phosphorus = soil_collection.filter(ee.Filter.inList('system:index', ['PTO'])).select(['PTO_000_005_EV','PTO_005_015_EV']).mean()\n",
    "\n",
    "avg_phosphorus = phosphorus.expression(\n",
    "    '(b1 + b2) / 2', {\n",
    "        'b1': phosphorus.select('PTO_000_005_EV'),\n",
    "        'b2': phosphorus.select('PTO_005_015_EV')\n",
    "    }\n",
    ").rename('avg_pto_band').clip(apl_map)\n",
    "\n",
    "\n",
    "avg_phosphorus = avg_phosphorus.updateMask(avg_phosphorus.clip(apl_map))\n",
    "avg_nitrogen = avg_nitrogen.updateMask(avg_nitrogen.clip(apl_map))"
   ],
   "id": "b7ccc9b8-b884-40a4-af01-b92af9e8af0e"
  },
  {
   "cell_type": "code",
   "execution_count": 57,
   "metadata": {},
   "outputs": [
    {
     "output_type": "display_data",
     "metadata": {},
     "data": {
      "text/html": [
       "\n",
       "            <style>\n",
       "                .geemap-dark {\n",
       "                    --jp-widgets-color: white;\n",
       "                    --jp-widgets-label-color: white;\n",
       "                    --jp-ui-font-color1: white;\n",
       "                    --jp-layout-color2: #454545;\n",
       "                    background-color: #383838;\n",
       "                }\n",
       "\n",
       "                .geemap-dark .jupyter-button {\n",
       "                    --jp-layout-color3: #383838;\n",
       "                }\n",
       "\n",
       "                .geemap-colab {\n",
       "                    background-color: var(--colab-primary-surface-color, white);\n",
       "                }\n",
       "\n",
       "                .geemap-colab .jupyter-button {\n",
       "                    --jp-layout-color3: var(--colab-primary-surface-color, white);\n",
       "                }\n",
       "            </style>\n",
       "            "
      ]
     }
    },
    {
     "output_type": "display_data",
     "metadata": {},
     "data": {
      "text/html": [
       "<script type=\"application/vnd.jupyter.widget-view+json\">\n",
       "{\"model_id\":\"57c66320372449258296b542f4f5e5d2\",\"version_major\":2,\"version_minor\":0,\"quarto_mimetype\":\"application/vnd.jupyter.widget-view+json\"}\n",
       "</script>"
      ]
     }
    }
   ],
   "source": [
    "# Example of using it for further analysis in Google Earth Engine\n",
    "Map = geemap.Map()\n",
    "Map.centerObject(avg_nitrogen)\n",
    "Map.addLayer(avg_nitrogen, {}, \"average phosphorus\")\n",
    "Map"
   ],
   "id": "a78f8a5d-00af-4f89-bc67-b40bbed28153"
  },
  {
   "cell_type": "code",
   "execution_count": 59,
   "metadata": {},
   "outputs": [
    {
     "output_type": "display_data",
     "metadata": {},
     "data": {
      "text/html": [
       "\n",
       "            <style>\n",
       "                .geemap-dark {\n",
       "                    --jp-widgets-color: white;\n",
       "                    --jp-widgets-label-color: white;\n",
       "                    --jp-ui-font-color1: white;\n",
       "                    --jp-layout-color2: #454545;\n",
       "                    background-color: #383838;\n",
       "                }\n",
       "\n",
       "                .geemap-dark .jupyter-button {\n",
       "                    --jp-layout-color3: #383838;\n",
       "                }\n",
       "\n",
       "                .geemap-colab {\n",
       "                    background-color: var(--colab-primary-surface-color, white);\n",
       "                }\n",
       "\n",
       "                .geemap-colab .jupyter-button {\n",
       "                    --jp-layout-color3: var(--colab-primary-surface-color, white);\n",
       "                }\n",
       "            </style>\n",
       "            "
      ]
     }
    },
    {
     "output_type": "stream",
     "name": "stdout",
     "text": [
      "Generating URL ...\n",
      "Downloading data from https://earthengine.googleapis.com/v1/projects/earthengine-legacy/thumbnails/c5a6a3a18275e0aa6bf709dd0be7d55a-ff7f222facc0984273b831cfc3bc506e:getPixels\n",
      "Please wait ...\n",
      "Data downloaded to /home/datascience/herbivore_nutrient_interactions/data/raw/survey_data/apl_nitrogen_raster.tif\n",
      "Nitrogen Raster file saved\n",
      "Generating URL ...\n",
      "Downloading data from https://earthengine.googleapis.com/v1/projects/earthengine-legacy/thumbnails/f45544c99ee98a5c90b1d9f492ca4351-716d897dff72fc00f1dcd12dd11df845:getPixels\n",
      "Please wait ...\n",
      "Data downloaded to /home/datascience/herbivore_nutrient_interactions/data/raw/survey_data/apl_phosphorus_raster.tif\n",
      "Phophorus Raster file saved"
     ]
    }
   ],
   "source": [
    "\n",
    "# Export the clipped raster directly to a local file as a GeoTIFF\n",
    "geemap.ee_export_image(\n",
    "    avg_nitrogen, \n",
    "    filename = \"data/raw/survey_data/apl_nitrogen_raster.tif\",\n",
    "    region = apl_map.geometry(), \n",
    "    scale = 2000\n",
    ")\n",
    "\n",
    "print(\"Nitrogen Raster file saved\")\n",
    "\n",
    "# Export the clipped raster directly to a local file as a GeoTIFF\n",
    "geemap.ee_export_image(\n",
    "    avg_phosphorus, \n",
    "    filename=\"data/raw/survey_data/apl_phosphorus_raster.tif\",\n",
    "    region=apl_map.geometry(), \n",
    "    scale = 2000\n",
    ")\n",
    "\n",
    "print(\"Phophorus Raster file saved\")"
   ],
   "id": "acff150d-ec20-4858-8151-845d4264a2c4"
  }
 ],
 "nbformat": 4,
 "nbformat_minor": 5,
 "metadata": {}
}
