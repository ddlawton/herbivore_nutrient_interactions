{
 "cells": [
  {
   "cell_type": "markdown",
   "metadata": {},
   "source": [
    "# Field population statistical analyses – Choice Experiment"
   ],
   "id": "5f8655c4-66b6-4f6c-9c07-bd78089fdc91"
  },
  {
   "cell_type": "markdown",
   "metadata": {},
   "source": [
    "this script conducts the statistics for the Choice experiment intake target of field caught Australian plauge locusts\n",
    "\n",
    "Specifics for the experiment design can be found in the publication."
   ],
   "id": "83694d4d-3778-489c-96f4-d70a92fe2eeb"
  },
  {
   "cell_type": "code",
   "execution_count": 1,
   "metadata": {},
   "outputs": [
    {
     "output_type": "stream",
     "name": "stderr",
     "text": [
      "This is mgcv 1.9-1. For overview type 'help(\"mgcv-package\")'.\n",
      "\n",
      "\n",
      "Attaching package: ‘TH.data’\n",
      "\n",
      "\n",
      "The following object is masked from ‘package:MASS’:\n",
      "\n",
      "    geyser\n",
      "\n",
      "\n",
      "\n",
      "Attaching package: ‘patchwork’\n",
      "\n",
      "\n",
      "The following object is masked from ‘package:MASS’:\n",
      "\n",
      "    area\n",
      "\n",
      "\n",
      "\n",
      "Attaching package: ‘janitor’\n",
      "\n",
      "\n",
      "The following objects are masked from ‘package:stats’:\n",
      "\n",
      "    chisq.test, fisher.test\n",
      "\n",
      "\n",
      "here() starts at /home/datascience/herbivore_nutrient_interactions\n",
      "\n",
      "Registered S3 method overwritten by 'GGally':\n",
      "  method from   \n",
      "  +.gg   ggplot2\n",
      "\n",
      "── Attaching core tidyverse packages ──────────────────────── tidyverse 2.0.0 ──\n",
      "✔ dplyr     1.1.4     ✔ readr     2.1.5\n",
      "✔ forcats   1.0.0     ✔ stringr   1.5.1\n",
      "✔ lubridate 1.9.3     ✔ tibble    3.2.1\n",
      "✔ purrr     1.0.2     ✔ tidyr     1.3.1\n",
      "── Conflicts ────────────────────────────────────────── tidyverse_conflicts() ──\n",
      "✖ stringr::boundary() masks gratia::boundary()\n",
      "✖ dplyr::collapse()   masks nlme::collapse()\n",
      "✖ dplyr::filter()     masks stats::filter()\n",
      "✖ dplyr::lag()        masks stats::lag()\n",
      "✖ dplyr::select()     masks MASS::select()\n",
      "ℹ Use the conflicted package (<http://conflicted.r-lib.org/>) to force all conflicts to become errors\n",
      "here() starts at /home/datascience/herbivore_nutrient_interactions\n"
     ]
    }
   ],
   "source": [
    "load_packages <- function(packages) {\n",
    "  # Check for uninstalled packages\n",
    "  uninstalled <- packages[!packages %in% installed.packages()[,\"Package\"]]\n",
    "  \n",
    "  # Install uninstalled packages\n",
    "  if(length(uninstalled)) install.packages(uninstalled, dependencies = TRUE)\n",
    "\n",
    "  # Load all packages\n",
    "  for (pkg in packages) {\n",
    "    if (!require(pkg, character.only = TRUE, quietly = TRUE)) {\n",
    "      message(paste(\"Failed to load package:\", pkg))\n",
    "    }\n",
    "  }\n",
    "}\n",
    "\n",
    "# List of packages to check, install, and load\n",
    "packages <- c(\"mgcv\", \"MuMIn\", \"multcomp\", \"gratia\", \n",
    "              \"ggpubr\", \"patchwork\", \"broom\", \"knitr\", \"janitor\", \n",
    "              \"here\",\"ggpubr\",\"MetBrewer\",\"GGally\",\"tidyverse\")\n",
    "\n",
    "load_packages(packages)\n",
    "\n",
    "i_am('README.md')\n",
    "\n",
    "# Functions\n",
    "                   \n",
    "## Standard error\n",
    "std <- function(x) sd(x)/sqrt(length(x))\n",
    "\n",
    "\n",
    "# Setting R options for jupyterlab\n",
    "options(repr.plot.width = 10, repr.plot.height = 10)\n"
   ],
   "id": "ad87368c-1585-4b18-a3cb-dff640216a9b"
  },
  {
   "cell_type": "markdown",
   "metadata": {},
   "source": [
    "# Choice Experiment\n",
    "\n",
    "## Data import\n",
    "\n",
    "This code reads a CSV file containing IT data, cleans the column names, converts specific columns to factors, and removes rows with missing values in the `protein_consumed_g` and `carb_consumed_g` columns.\n",
    "\n",
    "column descriptions:\n",
    "\n",
    "-   population: a factor with two levels Guntawang or Mendooran\n",
    "-   cage_no: the cage number for the specific locust used in the experiment\n",
    "-   diet_pair: a factor with two levels A or B: 7p:35c & 28p:14c or 7p:35c & 35p:7c *check if this is correct*\n",
    "-   sex: a factor with two levels M or F: Male or Female sex of the individual locust\n",
    "-   initial_mass_g: the starting mass for the specific locust in grams\n",
    "-   total_consumed_g: total amount of diet consumed between the two options for each individual\n",
    "-   protein_consumed_g: total amount of protein consumed for each individual\n",
    "-   carb_consumed_g: total amount of carbohydrates consumed for each individual"
   ],
   "id": "2f4a1339-1103-4c60-933d-9fe7785263c8"
  },
  {
   "cell_type": "code",
   "execution_count": 2,
   "metadata": {},
   "outputs": [
    {
     "output_type": "display_data",
     "metadata": {},
     "data": {}
    }
   ],
   "source": [
    "\n",
    "dat <- read_csv(here(\"data/raw/field_populations/IT_dat.csv\"),show_col_types = FALSE) |>\n",
    "    clean_names() |>\n",
    "    mutate(across(c(population,sex,diet_pair,cage_no,low_p_diet,high_p_diet,notes_exclude_reason),~factor(.))) |>\n",
    "    drop_na(protein_consumed_g,carb_consumed_g)\n",
    "           \n",
    "\n",
    "dat |> head()"
   ],
   "id": "897c890b-13aa-4a4b-9b83-b730b001f44c"
  },
  {
   "cell_type": "markdown",
   "metadata": {},
   "source": [
    "# Raw data visualization\n",
    "\n",
    "I am using `ggpairs` to make this section pithy"
   ],
   "id": "3086431f-837a-4fd3-8e01-398724a9139f"
  },
  {
   "cell_type": "code",
   "execution_count": 3,
   "metadata": {},
   "outputs": [],
   "source": [
    "numeric_columns <- c(\"initial_mass_g\", \"total_consumed_g\", \"protein_consumed_g\",\"carb_consumed_g\")\n",
    "\n",
    "my_dens <- function(data, mapping,...) {\n",
    "  ggplot(data = data, mapping=mapping) +\n",
    "    geom_density(..., alpha = 0.7, fill = NA) \n",
    "}\n",
    "\n",
    "\n",
    "population_raw_graph <- dat |>\n",
    "    dplyr::select(!c(cage_no,notes_exclude_reason)) |>\n",
    "    ggpairs(aes(color=population,fill=population),columns = numeric_columns,diag = list(continuous = my_dens))  +\n",
    "    scale_colour_manual(values=c('#e5a335','#96410e'))  +\n",
    "    scale_fill_manual(values=c('#e5a335','#96410e')) +\n",
    "    theme_pubr()\n",
    "\n",
    "sex_raw_graph <- dat |>\n",
    "    dplyr::select(!c(cage_no,notes_exclude_reason)) |>\n",
    "    ggpairs(aes(color=sex),columns = numeric_columns,diag = list(continuous = my_dens))  +\n",
    "    scale_colour_manual(values=c('#e5a335','#96410e'))  +\n",
    "    scale_fill_manual(values=c('#e5a335','#96410e')) +\n",
    "    theme_pubr()\n",
    "\n",
    "diet_pair_raw_graph <- dat |>\n",
    "    dplyr::select(!c(cage_no,notes_exclude_reason)) |>\n",
    "    ggpairs(aes(color=diet_pair),columns = numeric_columns,diag = list(continuous = my_dens))  +\n",
    "    scale_colour_manual(values=c('#e5a335','#96410e'))  +\n",
    "    scale_fill_manual(values=c('#e5a335','#96410e')) +\n",
    "    theme_pubr()\n"
   ],
   "id": "3d1230c6-d667-4190-b7e3-d18697c79de0"
  },
  {
   "cell_type": "markdown",
   "metadata": {},
   "source": [
    "Now save to the output location"
   ],
   "id": "750ad3b4-230c-4b6b-9d14-12f7c84fd959"
  },
  {
   "cell_type": "code",
   "execution_count": 5,
   "metadata": {},
   "outputs": [],
   "source": [
    "# Define the output directory\n",
    "output_dir <- here('output/field_populations/raw_visualization/')\n",
    "\n",
    "# List of plots and their corresponding file names\n",
    "plots <- list(\n",
    "  \"choice_experiment_population_raw_graph\" = population_raw_graph,\n",
    "  \"choice_experiment_sex_raw_graph\" = sex_raw_graph,\n",
    "  \"choice_experiment_diet_pair_raw_graph\" = diet_pair_raw_graph\n",
    ")\n",
    "\n",
    "# Loop through each plot and save it\n",
    "for (name in names(plots)) {\n",
    "  ggsave(\n",
    "    filename = file.path(output_dir, paste0(name, \".png\")),\n",
    "    plot = plots[[name]],\n",
    "    width = 10, height = 10, dpi = 300\n",
    "  )\n",
    "}"
   ],
   "id": "7da998e2-d503-474a-96c9-45ea04910e14"
  },
  {
   "cell_type": "markdown",
   "metadata": {},
   "source": [
    "## Model building\n",
    "\n",
    "### General Additive Models (GAM) for Carbohydrate and Protein Consumption of Field Populations\n",
    "\n",
    "In this analysis, we are exploring the relationship between carbohydrate and protein consumption using General Additive Models (GAMs) with different explanatory variables for two field popualtions of locusts. Each model assumes a multivariate normal (MVN) distribution for the responses.\n",
    "\n",
    "### Model Overview\n",
    "\n",
    "**Model 1: Non-linear Relationship with Initial Mass**\n",
    "\n",
    "Formula: - carb_consumed_g ~ population + diet_pair + sex + s(initial_mass_g, k=30) - protein_consumed_g ~ population + diet_pair + sex + s(initial_mass_g, k=30)\n",
    "\n",
    "Description: This model allows for a non-linear relationship between the initial mass of the subject and the consumption of carbohydrates and proteins. The smoothing function s(initial_mass_g, k=30) captures the non-linear effects with a basis dimension of 30.\n",
    "\n",
    "**Model 2: Linear Relationship with Initial Mass**\n",
    "\n",
    "Formula: - carb_consumed_g ~ population + diet_pair + sex + initial_mass_g - protein_consumed_g ~ population + diet_pair + sex + initial_mass_g\n",
    "\n",
    "Description: In this model, the relationship between initial mass and nutrient consumption is assumed to be linear. This model tests whether a simpler, linear approximation can adequately describe the relationship.\n",
    "\n",
    "**Model 3: Excluding Initial Mass**\n",
    "\n",
    "Formula: - carb_consumed_g ~ population + sex + diet_pair - protein_consumed_g ~ population + sex + diet_pair\n",
    "\n",
    "Description: This model excludes the initial mass as an explanatory variable, focusing only on population, sex, and diet pair to explain the variation in carbohydrate and protein consumption.\n",
    "\n",
    "**Model 4: Null Model**\n",
    "\n",
    "Formula: - carb_consumed_g ~ 1 - protein_consumed_g ~ 1\n",
    "\n",
    "Description: The null model includes only an intercept, serving as a baseline to compare the other models. This model should represent the worst fit to the data, as it assumes no relationship between the predictors and the response variables.\n",
    "\n",
    "After fitting these models, we will compare them using the following criteria:\n",
    "\n",
    "-   Akaike Information Criterion (AIC): A measure of the relative quality of the models for a given dataset, considering both goodness of fit and model complexity.\n",
    "-   Bayesian Information Criterion (BIC): Similar to AIC, but with a stronger penalty for models with more parameters.\n",
    "-   Corrected AIC (AICc): AIC adjusted for small sample sizes, ensuring a more reliable comparison when sample sizes are limited. By examining the AIC, BIC, and AICc values, we will select the best model for explaining carbohydrate and protein consumption."
   ],
   "id": "75f153b1-5847-4c75-a2f0-a850205079ed"
  },
  {
   "cell_type": "code",
   "execution_count": 6,
   "metadata": {},
   "outputs": [],
   "source": [
    "# Model 1: Non-linear Relationship with Initial Mass\n",
    "mod1 <- gam(list(\n",
    "  carb_consumed_g ~ population + diet_pair + sex + s(initial_mass_g, k=30),\n",
    "  protein_consumed_g ~ population + diet_pair + sex + s(initial_mass_g, k=30)\n",
    "), family = mvn(d = 2), select = TRUE, data = dat)\n",
    "\n",
    "# Model 2: Linear Relationship with Initial Mass\n",
    "mod2 <- gam(list(\n",
    "  carb_consumed_g ~ population + diet_pair + sex + initial_mass_g,\n",
    "  protein_consumed_g ~ population + diet_pair + sex + initial_mass_g\n",
    "), family = mvn(d = 2), select = TRUE, data = dat)\n",
    "\n",
    "# Model 3: Excluding Initial Mass\n",
    "mod3 <- gam(list(\n",
    "  carb_consumed_g ~ population + diet_pair + sex,\n",
    "  protein_consumed_g ~ population + diet_pair + sex\n",
    "), family = mvn(d = 2), select = TRUE, data = dat)\n",
    "\n",
    "# Model 4: NULL model (This should be the worst model)\n",
    "mod4 <- gam(list(\n",
    "  carb_consumed_g ~ 1,\n",
    "  protein_consumed_g ~ 1\n",
    "), family = mvn(d = 2), select = TRUE, data = dat)\n"
   ],
   "id": "6acf88f7-74e8-41cf-962a-fac4287f6329"
  },
  {
   "cell_type": "markdown",
   "metadata": {},
   "source": [
    "## Model Diagnostics\n",
    "\n",
    "To see how well these models fit, I will run `mgcv::gam.check()` on it"
   ],
   "id": "93a1fe04-4c7d-4f27-bbda-86064d7e821c"
  },
  {
   "cell_type": "code",
   "execution_count": 7,
   "metadata": {},
   "outputs": [
    {
     "output_type": "stream",
     "name": "stdout",
     "text": [
      "\n",
      "Method: REML   Optimizer: outer newton\n",
      "full convergence after 17 iterations.\n",
      "Gradient range [-0.0004276099,-1.37031e-05]\n",
      "(score -576.2551 & scale 1).\n",
      "Hessian positive definite, eigenvalue range [0.000199142,0.04150658].\n",
      "Model rank =  69 / 69 \n",
      "\n",
      "Basis dimension (k) checking results. Low p-value (k-index<1) may\n",
      "indicate that k is too low, especially if edf is close to k'.\n",
      "\n",
      "                          k'      edf k-index p-value\n",
      "s(initial_mass_g)   2.90e+01 1.32e-04    0.94    0.27\n",
      "s.1(initial_mass_g) 2.90e+01 9.29e-04    0.94    0.26"
     ]
    },
    {
     "output_type": "display_data",
     "metadata": {},
     "data": {
      "image/png": "[encoded data removed]"
     }
    }
   ],
   "source": [
    "gam.check(mod1)"
   ],
   "id": "43f14dba-f6b1-4c24-abbc-5556936fea4b"
  },
  {
   "cell_type": "markdown",
   "metadata": {},
   "source": [
    "These diagnostic plots indicate these models are pretty well fit.\n",
    "\n",
    "there is some discernable relationship in the variance plot, but it could be worse\n",
    "\n",
    "## Model selection\n",
    "\n",
    "now lets calculate the model selection criteria"
   ],
   "id": "79a2dead-ca91-402c-a5fc-6f3109e7552c"
  },
  {
   "cell_type": "code",
   "execution_count": 8,
   "metadata": {},
   "outputs": [],
   "source": [
    "# Model selection using AIC, BIC, and AICc\n",
    "bic <- BIC(mod1, mod2, mod3, mod4) |>  # Bayesian Information Criterion\n",
    "    mutate(deltaBIC = BIC - min(BIC)) |>\n",
    "    rownames_to_column('model') |>\n",
    "    dplyr::select(model,BIC,deltaBIC)\n",
    "\n",
    "aic <- AIC(mod1, mod2, mod3, mod4)  |>  # Akaike Information Criterion\n",
    "    mutate(deltaAIC = AIC - min(AIC)) |>\n",
    "    rownames_to_column('model') |>\n",
    "    dplyr::select(model,AIC,deltaAIC)\n",
    "\n",
    "aicc <- AICc(mod1, mod2, mod3, mod4)  |>  # AIC adjusted for small sample size\n",
    "    mutate(deltaAICc = AICc - min(AICc)) |>\n",
    "    rownames_to_column('model') |>\n",
    "    dplyr::select(model,AICc,deltaAICc)\n",
    "\n",
    "model_selection_tables <- bic |>\n",
    "    left_join(aic,by='model') |>\n",
    "    left_join(aicc,by='model') |>\n",
    "    mutate(experiment = 'choice_experiment')"
   ],
   "id": "e775c470-7707-4b7c-bbb0-6a39a225138c"
  },
  {
   "cell_type": "code",
   "execution_count": 9,
   "metadata": {},
   "outputs": [
    {
     "output_type": "display_data",
     "metadata": {},
     "data": {}
    }
   ],
   "source": [
    "model_selection_tables |>\n",
    "    arrange(deltaBIC) "
   ],
   "id": "e20d87da-19ac-4bb4-98c8-51534f36c20a"
  },
  {
   "cell_type": "markdown",
   "metadata": {},
   "source": [
    "Model selection criteria supports that model 3 (which excludes starting mass) is the most parsimonous model\n",
    "\n",
    "The model summary is below"
   ],
   "id": "8a67e20b-08d7-4ad7-b72d-ed4707fcb3f7"
  },
  {
   "cell_type": "code",
   "execution_count": 10,
   "metadata": {},
   "outputs": [
    {
     "output_type": "display_data",
     "metadata": {},
     "data": {
      "text/plain": [
       "\n",
       "Family: Multivariate normal \n",
       "Link function: \n",
       "\n",
       "Formula:\n",
       "carb_consumed_g ~ population + diet_pair + sex\n",
       "protein_consumed_g ~ population + diet_pair + sex\n",
       "\n",
       "Parametric coefficients:\n",
       "                       Estimate Std. Error z value Pr(>|z|)    \n",
       "(Intercept)            0.026442   0.002062  12.825  < 2e-16 ***\n",
       "populationMendooran   -0.001464   0.002086  -0.702    0.483    \n",
       "diet_pairB             0.001173   0.002082   0.563    0.573    \n",
       "sexM                  -0.010924   0.002076  -5.262 1.43e-07 ***\n",
       "(Intercept).1          0.013591   0.001500   9.062  < 2e-16 ***\n",
       "populationMendooran.1 -0.002345   0.001517  -1.546    0.122    \n",
       "diet_pairB.1           0.001592   0.001514   1.051    0.293    \n",
       "sexM.1                -0.005952   0.001510  -3.941 8.12e-05 ***\n",
       "---\n",
       "Signif. codes:  0 ‘***’ 0.001 ‘**’ 0.01 ‘*’ 0.05 ‘.’ 0.1 ‘ ’ 1\n",
       "\n",
       "\n",
       "Deviance explained = 19.5%\n",
       "-REML = -576.26  Scale est. = 1         n = 69"
      ]
     }
    }
   ],
   "source": [
    "summary(mod3)"
   ],
   "id": "d9339990-a702-473e-ad1a-0639198264f1"
  },
  {
   "cell_type": "markdown",
   "metadata": {},
   "source": [
    "## Key Findings\n",
    "\n",
    "Carbohydrate Consumption: Significant negative effects are observed for sexM (p \\< 0.001). The other predictors, populationMendooran and diet_pairB, are not significant.\n",
    "\n",
    "Protein Consumption: Significant negative effects are found for sexM (p \\< 0.001). The other predictors, populationMendooran.1 and diet_pairB.1, do not show significant effects.\n",
    "\n",
    "Model Fit: The model explains 19.5% of the deviance.\n",
    "\n",
    "## Model outputs\n",
    "\n",
    "I am going to get the estimated marginal means for `diet_pair`,`sex`, and `population`\n",
    "\n",
    "I will add this as a column on the dataframe\n",
    "\n",
    "I will also write out to disk the model object"
   ],
   "id": "8e9efa6f-2bb1-4f20-ac54-1107d0ac249f"
  },
  {
   "cell_type": "code",
   "execution_count": 13,
   "metadata": {
    "scrolled": true
   },
   "outputs": [
    {
     "output_type": "display_data",
     "metadata": {},
     "data": {}
    }
   ],
   "source": [
    "choice_exp_preds <- expand.grid(\n",
    "  population = unique(dat$population),\n",
    "  diet_pair = unique(dat$diet_pair),\n",
    "  sex = unique(dat$sex)\n",
    ")\n",
    "\n",
    "# Predict carbohydrate consumption\n",
    "choice_exp_preds$pred_carb <- predict(mod3, newdata = choice_exp_preds, type = \"response\")[, 1]\n",
    "\n",
    "# Predict protein consumption\n",
    "choice_exp_preds$pred_protein <- predict(mod3, newdata = choice_exp_preds, type = \"response\")[, 2]\n",
    "\n",
    "choice_exp_preds"
   ],
   "id": "74361857-b48d-4b62-89df-858f92347efb"
  },
  {
   "cell_type": "markdown",
   "metadata": {},
   "source": [
    "Saving the predictions and model object for later visualization"
   ],
   "id": "2adc13ca-ecc7-40b8-9ec2-877411943fc8"
  },
  {
   "cell_type": "code",
   "execution_count": 17,
   "metadata": {
    "scrolled": true
   },
   "outputs": [],
   "source": [
    "write.csv(choice_exp_preds,here('data/processed/field_populations/choice_experiment_predictions.csv'),row.names=FALSE)\n",
    "\n",
    "\n",
    "write.csv(model_selection_tables, here(\"output/field_populations/choice_experiment_model_selection_criteria_results.csv\"),row.names=FALSE)\n",
    "\n",
    "\n",
    "# Combine the lists into a single list\n",
    "models <- list('mod1'= mod1, 'mod2' = mod2, 'mod3'= mod3, 'mod4'= mod4)\n",
    "\n",
    "# Save the combined list to an RDS file\n",
    "saveRDS(models, here(\"output/field_populations/model_objects/choice_experiment_models.rds\"))"
   ],
   "id": "070371a9-fb19-4c81-ada7-6fd237d7bb8a"
  }
 ],
 "nbformat": 4,
 "nbformat_minor": 5,
 "metadata": {}
}
