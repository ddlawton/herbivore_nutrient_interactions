{
 "cells": [
  {
   "cell_type": "markdown",
   "id": "83694d4d-3778-489c-96f4-d70a92fe2eeb",
   "metadata": {},
   "source": [
    "# Field population statistical analyses -- Choice Experiment\n",
    "\n",
    "this script conducts the statistics for the Choice experiment intake target of field caught Australian plauge locusts\n",
    "\n",
    "Specifics for the experiment design can be found in the publication.\n"
   ]
  },
  {
   "cell_type": "code",
   "execution_count": 1,
   "id": "ad87368c-1585-4b18-a3cb-dff640216a9b",
   "metadata": {},
   "outputs": [
    {
     "name": "stderr",
     "output_type": "stream",
     "text": [
      "This is mgcv 1.9-1. For overview type 'help(\"mgcv-package\")'.\n",
      "\n",
      "\n",
      "Attaching package: ‘TH.data’\n",
      "\n",
      "\n",
      "The following object is masked from ‘package:MASS’:\n",
      "\n",
      "    geyser\n",
      "\n",
      "\n",
      "\n",
      "Attaching package: ‘patchwork’\n",
      "\n",
      "\n",
      "The following object is masked from ‘package:MASS’:\n",
      "\n",
      "    area\n",
      "\n",
      "\n",
      "\n",
      "Attaching package: ‘janitor’\n",
      "\n",
      "\n",
      "The following objects are masked from ‘package:stats’:\n",
      "\n",
      "    chisq.test, fisher.test\n",
      "\n",
      "\n",
      "here() starts at /home/datascience/herbivore_nutrient_interactions\n",
      "\n",
      "Registered S3 method overwritten by 'GGally':\n",
      "  method from   \n",
      "  +.gg   ggplot2\n",
      "\n",
      "── \u001b[1mAttaching core tidyverse packages\u001b[22m ──────────────────────── tidyverse 2.0.0 ──\n",
      "\u001b[32m✔\u001b[39m \u001b[34mdplyr    \u001b[39m 1.1.4     \u001b[32m✔\u001b[39m \u001b[34mreadr    \u001b[39m 2.1.5\n",
      "\u001b[32m✔\u001b[39m \u001b[34mforcats  \u001b[39m 1.0.0     \u001b[32m✔\u001b[39m \u001b[34mstringr  \u001b[39m 1.5.1\n",
      "\u001b[32m✔\u001b[39m \u001b[34mlubridate\u001b[39m 1.9.3     \u001b[32m✔\u001b[39m \u001b[34mtibble   \u001b[39m 3.2.1\n",
      "\u001b[32m✔\u001b[39m \u001b[34mpurrr    \u001b[39m 1.0.2     \u001b[32m✔\u001b[39m \u001b[34mtidyr    \u001b[39m 1.3.1\n",
      "── \u001b[1mConflicts\u001b[22m ────────────────────────────────────────── tidyverse_conflicts() ──\n",
      "\u001b[31m✖\u001b[39m \u001b[34mstringr\u001b[39m::\u001b[32mboundary()\u001b[39m masks \u001b[34mgratia\u001b[39m::boundary()\n",
      "\u001b[31m✖\u001b[39m \u001b[34mdplyr\u001b[39m::\u001b[32mcollapse()\u001b[39m   masks \u001b[34mnlme\u001b[39m::collapse()\n",
      "\u001b[31m✖\u001b[39m \u001b[34mdplyr\u001b[39m::\u001b[32mfilter()\u001b[39m     masks \u001b[34mstats\u001b[39m::filter()\n",
      "\u001b[31m✖\u001b[39m \u001b[34mdplyr\u001b[39m::\u001b[32mlag()\u001b[39m        masks \u001b[34mstats\u001b[39m::lag()\n",
      "\u001b[31m✖\u001b[39m \u001b[34mdplyr\u001b[39m::\u001b[32mselect()\u001b[39m     masks \u001b[34mMASS\u001b[39m::select()\n",
      "\u001b[36mℹ\u001b[39m Use the conflicted package (\u001b[3m\u001b[34m<http://conflicted.r-lib.org/>\u001b[39m\u001b[23m) to force all conflicts to become errors\n",
      "here() starts at /home/datascience/herbivore_nutrient_interactions\n",
      "\n"
     ]
    }
   ],
   "source": [
    "load_packages <- function(packages) {\n",
    "  # Check for uninstalled packages\n",
    "  uninstalled <- packages[!packages %in% installed.packages()[,\"Package\"]]\n",
    "  \n",
    "  # Install uninstalled packages\n",
    "  if(length(uninstalled)) install.packages(uninstalled, dependencies = TRUE)\n",
    "\n",
    "  # Load all packages\n",
    "  for (pkg in packages) {\n",
    "    if (!require(pkg, character.only = TRUE, quietly = TRUE)) {\n",
    "      message(paste(\"Failed to load package:\", pkg))\n",
    "    }\n",
    "  }\n",
    "}\n",
    "\n",
    "# List of packages to check, install, and load\n",
    "packages <- c(\"mgcv\", \"MuMIn\", \"multcomp\", \"gratia\", \n",
    "              \"ggpubr\", \"patchwork\", \"broom\", \"knitr\", \"janitor\", \n",
    "              \"here\",\"ggpubr\",\"MetBrewer\",\"GGally\",\"tidyverse\")\n",
    "\n",
    "load_packages(packages)\n",
    "\n",
    "i_am('README.md')\n",
    "\n",
    "# Functions\n",
    "                   \n",
    "## Standard error\n",
    "std <- function(x) sd(x)/sqrt(length(x))\n",
    "\n",
    "\n",
    "# Setting R options for jupyterlab\n",
    "options(repr.plot.width = 10, repr.plot.height = 10)\n"
   ]
  },
  {
   "cell_type": "markdown",
   "id": "2f4a1339-1103-4c60-933d-9fe7785263c8",
   "metadata": {},
   "source": [
    "# Choice Experiment \n",
    "\n",
    "## Data import\n",
    "\n",
    "This code reads a CSV file containing IT data, cleans the column names, converts specific columns to factors, and removes rows with missing values in the `protein_consumed_g` and `carb_consumed_g` columns.\n",
    "\n",
    "column descriptions:\n",
    "\n",
    "- population: a factor with two levels Guntawang or Mendooran\n",
    "- cage_no: the cage number for the specific locust used in the experiment\n",
    "- diet_pair: a factor with two levels A or B: 7p:35c & 28p:14c or 7p:35c & 35p:7c *check if this is correct*\n",
    "- sex: a factor with two levels M or F: Male or Female sex of the individual locust\n",
    "- initial_mass_g: the starting mass for the specific locust in grams\n",
    "- total_consumed_g: total amount of diet consumed between the two options for each individual\n",
    "- protein_consumed_g: total amount of protein consumed for each individual\n",
    "- carb_consumed_g: total amount of carbohydrates consumed for each individual\n",
    "\n"
   ]
  },
  {
   "cell_type": "code",
   "execution_count": 2,
   "id": "897c890b-13aa-4a4b-9b83-b730b001f44c",
   "metadata": {},
   "outputs": [
    {
     "data": {
      "text/html": [
       "<table class=\"dataframe\">\n",
       "<caption>A tibble: 6 × 11</caption>\n",
       "<thead>\n",
       "\t<tr><th scope=col>cage_no</th><th scope=col>population</th><th scope=col>diet_pair</th><th scope=col>sex</th><th scope=col>initial_mass_g</th><th scope=col>low_p_diet</th><th scope=col>high_p_diet</th><th scope=col>total_consumed_g</th><th scope=col>protein_consumed_g</th><th scope=col>carb_consumed_g</th><th scope=col>notes_exclude_reason</th></tr>\n",
       "\t<tr><th scope=col>&lt;fct&gt;</th><th scope=col>&lt;fct&gt;</th><th scope=col>&lt;fct&gt;</th><th scope=col>&lt;fct&gt;</th><th scope=col>&lt;dbl&gt;</th><th scope=col>&lt;fct&gt;</th><th scope=col>&lt;fct&gt;</th><th scope=col>&lt;dbl&gt;</th><th scope=col>&lt;dbl&gt;</th><th scope=col>&lt;dbl&gt;</th><th scope=col>&lt;fct&gt;</th></tr>\n",
       "</thead>\n",
       "<tbody>\n",
       "\t<tr><td>1</td><td>Mendooran</td><td>A</td><td>M</td><td>0.146</td><td>7p:35c</td><td>35p:7c</td><td>0.063</td><td>0.006</td><td>0.021</td><td>NA</td></tr>\n",
       "\t<tr><td>2</td><td>Mendooran</td><td>A</td><td>M</td><td>0.150</td><td>7p:35c</td><td>35p:7c</td><td>0.069</td><td>0.010</td><td>0.019</td><td>NA</td></tr>\n",
       "\t<tr><td>3</td><td>Mendooran</td><td>A</td><td>F</td><td>0.310</td><td>7p:35c</td><td>35p:7c</td><td>0.075</td><td>0.018</td><td>0.014</td><td>NA</td></tr>\n",
       "\t<tr><td>4</td><td>Mendooran</td><td>A</td><td>F</td><td>0.201</td><td>7p:35c</td><td>35p:7c</td><td>0.063</td><td>0.004</td><td>0.022</td><td>NA</td></tr>\n",
       "\t<tr><td>5</td><td>Mendooran</td><td>A</td><td>M</td><td>0.133</td><td>7p:35c</td><td>35p:7c</td><td>0.072</td><td>0.011</td><td>0.019</td><td>NA</td></tr>\n",
       "\t<tr><td>6</td><td>Mendooran</td><td>A</td><td>F</td><td>0.279</td><td>7p:35c</td><td>35p:7c</td><td>0.129</td><td>0.013</td><td>0.042</td><td>NA</td></tr>\n",
       "</tbody>\n",
       "</table>\n"
      ],
      "text/latex": [
       "A tibble: 6 × 11\n",
       "\\begin{tabular}{lllllllllll}\n",
       " cage\\_no & population & diet\\_pair & sex & initial\\_mass\\_g & low\\_p\\_diet & high\\_p\\_diet & total\\_consumed\\_g & protein\\_consumed\\_g & carb\\_consumed\\_g & notes\\_exclude\\_reason\\\\\n",
       " <fct> & <fct> & <fct> & <fct> & <dbl> & <fct> & <fct> & <dbl> & <dbl> & <dbl> & <fct>\\\\\n",
       "\\hline\n",
       "\t 1 & Mendooran & A & M & 0.146 & 7p:35c & 35p:7c & 0.063 & 0.006 & 0.021 & NA\\\\\n",
       "\t 2 & Mendooran & A & M & 0.150 & 7p:35c & 35p:7c & 0.069 & 0.010 & 0.019 & NA\\\\\n",
       "\t 3 & Mendooran & A & F & 0.310 & 7p:35c & 35p:7c & 0.075 & 0.018 & 0.014 & NA\\\\\n",
       "\t 4 & Mendooran & A & F & 0.201 & 7p:35c & 35p:7c & 0.063 & 0.004 & 0.022 & NA\\\\\n",
       "\t 5 & Mendooran & A & M & 0.133 & 7p:35c & 35p:7c & 0.072 & 0.011 & 0.019 & NA\\\\\n",
       "\t 6 & Mendooran & A & F & 0.279 & 7p:35c & 35p:7c & 0.129 & 0.013 & 0.042 & NA\\\\\n",
       "\\end{tabular}\n"
      ],
      "text/markdown": [
       "\n",
       "A tibble: 6 × 11\n",
       "\n",
       "| cage_no &lt;fct&gt; | population &lt;fct&gt; | diet_pair &lt;fct&gt; | sex &lt;fct&gt; | initial_mass_g &lt;dbl&gt; | low_p_diet &lt;fct&gt; | high_p_diet &lt;fct&gt; | total_consumed_g &lt;dbl&gt; | protein_consumed_g &lt;dbl&gt; | carb_consumed_g &lt;dbl&gt; | notes_exclude_reason &lt;fct&gt; |\n",
       "|---|---|---|---|---|---|---|---|---|---|---|\n",
       "| 1 | Mendooran | A | M | 0.146 | 7p:35c | 35p:7c | 0.063 | 0.006 | 0.021 | NA |\n",
       "| 2 | Mendooran | A | M | 0.150 | 7p:35c | 35p:7c | 0.069 | 0.010 | 0.019 | NA |\n",
       "| 3 | Mendooran | A | F | 0.310 | 7p:35c | 35p:7c | 0.075 | 0.018 | 0.014 | NA |\n",
       "| 4 | Mendooran | A | F | 0.201 | 7p:35c | 35p:7c | 0.063 | 0.004 | 0.022 | NA |\n",
       "| 5 | Mendooran | A | M | 0.133 | 7p:35c | 35p:7c | 0.072 | 0.011 | 0.019 | NA |\n",
       "| 6 | Mendooran | A | F | 0.279 | 7p:35c | 35p:7c | 0.129 | 0.013 | 0.042 | NA |\n",
       "\n"
      ],
      "text/plain": [
       "  cage_no population diet_pair sex initial_mass_g low_p_diet high_p_diet\n",
       "1 1       Mendooran  A         M   0.146          7p:35c     35p:7c     \n",
       "2 2       Mendooran  A         M   0.150          7p:35c     35p:7c     \n",
       "3 3       Mendooran  A         F   0.310          7p:35c     35p:7c     \n",
       "4 4       Mendooran  A         F   0.201          7p:35c     35p:7c     \n",
       "5 5       Mendooran  A         M   0.133          7p:35c     35p:7c     \n",
       "6 6       Mendooran  A         F   0.279          7p:35c     35p:7c     \n",
       "  total_consumed_g protein_consumed_g carb_consumed_g notes_exclude_reason\n",
       "1 0.063            0.006              0.021           NA                  \n",
       "2 0.069            0.010              0.019           NA                  \n",
       "3 0.075            0.018              0.014           NA                  \n",
       "4 0.063            0.004              0.022           NA                  \n",
       "5 0.072            0.011              0.019           NA                  \n",
       "6 0.129            0.013              0.042           NA                  "
      ]
     },
     "metadata": {},
     "output_type": "display_data"
    }
   ],
   "source": [
    "\n",
    "dat <- read_csv(here(\"data/raw/field_populations/IT_dat.csv\"),show_col_types = FALSE) |>\n",
    "    clean_names() |>\n",
    "    mutate(across(c(population,sex,diet_pair,cage_no,low_p_diet,high_p_diet,notes_exclude_reason),~factor(.))) |>\n",
    "    drop_na(protein_consumed_g,carb_consumed_g)\n",
    "           \n",
    "\n",
    "dat |> head()"
   ]
  },
  {
   "cell_type": "markdown",
   "id": "3086431f-837a-4fd3-8e01-398724a9139f",
   "metadata": {},
   "source": [
    "# Raw data visualization\n",
    "\n",
    "I am using `ggpairs` to make this section pithy"
   ]
  },
  {
   "cell_type": "code",
   "execution_count": 3,
   "id": "3d1230c6-d667-4190-b7e3-d18697c79de0",
   "metadata": {},
   "outputs": [],
   "source": [
    "numeric_columns <- c(\"initial_mass_g\", \"total_consumed_g\", \"protein_consumed_g\",\"carb_consumed_g\")\n",
    "\n",
    "my_dens <- function(data, mapping,...) {\n",
    "  ggplot(data = data, mapping=mapping) +\n",
    "    geom_density(..., alpha = 0.7, fill = NA) \n",
    "}\n",
    "\n",
    "\n",
    "population_raw_graph <- dat |>\n",
    "    dplyr::select(!c(cage_no,notes_exclude_reason)) |>\n",
    "    ggpairs(aes(color=population,fill=population),columns = numeric_columns,diag = list(continuous = my_dens))  +\n",
    "    scale_colour_manual(values=c('#e5a335','#96410e'))  +\n",
    "    scale_fill_manual(values=c('#e5a335','#96410e')) +\n",
    "    theme_pubr()\n",
    "\n",
    "sex_raw_graph <- dat |>\n",
    "    dplyr::select(!c(cage_no,notes_exclude_reason)) |>\n",
    "    ggpairs(aes(color=sex),columns = numeric_columns,diag = list(continuous = my_dens))  +\n",
    "    scale_colour_manual(values=c('#e5a335','#96410e'))  +\n",
    "    scale_fill_manual(values=c('#e5a335','#96410e')) +\n",
    "    theme_pubr()\n",
    "\n",
    "diet_pair_raw_graph <- dat |>\n",
    "    dplyr::select(!c(cage_no,notes_exclude_reason)) |>\n",
    "    ggpairs(aes(color=diet_pair),columns = numeric_columns,diag = list(continuous = my_dens))  +\n",
    "    scale_colour_manual(values=c('#e5a335','#96410e'))  +\n",
    "    scale_fill_manual(values=c('#e5a335','#96410e')) +\n",
    "    theme_pubr()\n"
   ]
  },
  {
   "cell_type": "markdown",
   "id": "750ad3b4-230c-4b6b-9d14-12f7c84fd959",
   "metadata": {},
   "source": [
    "Now save to the output location"
   ]
  },
  {
   "cell_type": "code",
   "execution_count": 5,
   "id": "7da998e2-d503-474a-96c9-45ea04910e14",
   "metadata": {},
   "outputs": [],
   "source": [
    "# Define the output directory\n",
    "output_dir <- here('output/field_populations/raw_visualization/')\n",
    "\n",
    "# List of plots and their corresponding file names\n",
    "plots <- list(\n",
    "  \"choice_experiment_population_raw_graph\" = population_raw_graph,\n",
    "  \"choice_experiment_sex_raw_graph\" = sex_raw_graph,\n",
    "  \"choice_experiment_diet_pair_raw_graph\" = diet_pair_raw_graph\n",
    ")\n",
    "\n",
    "# Loop through each plot and save it\n",
    "for (name in names(plots)) {\n",
    "  ggsave(\n",
    "    filename = file.path(output_dir, paste0(name, \".png\")),\n",
    "    plot = plots[[name]],\n",
    "    width = 10, height = 10, dpi = 300\n",
    "  )\n",
    "}"
   ]
  },
  {
   "cell_type": "markdown",
   "id": "75f153b1-5847-4c75-a2f0-a850205079ed",
   "metadata": {},
   "source": [
    "## Model building\n",
    "### General Additive Models (GAM) for Carbohydrate and Protein Consumption of Field Populations\n",
    "\n",
    "In this analysis, we are exploring the relationship between carbohydrate and protein consumption using General Additive Models (GAMs) with different explanatory variables for two field popualtions of locusts. Each model assumes a multivariate normal (MVN) distribution for the responses.\n",
    "\n",
    "### Model Overview\n",
    "\n",
    "**Model 1: Non-linear Relationship with Initial Mass**\n",
    "\n",
    "Formula:\n",
    "- carb_consumed_g ~ population + diet_pair + sex + s(initial_mass_g, k=30)\n",
    "- protein_consumed_g ~ population + diet_pair + sex + s(initial_mass_g, k=30)\n",
    "\n",
    "Description: This model allows for a non-linear relationship between the initial mass of the subject and the consumption of carbohydrates and proteins. The smoothing function s(initial_mass_g, k=30) captures the non-linear effects with a basis dimension of 30.\n",
    "\n",
    "**Model 2: Linear Relationship with Initial Mass**\n",
    "\n",
    "Formula:\n",
    "- carb_consumed_g ~ population + diet_pair + sex + initial_mass_g\n",
    "- protein_consumed_g ~ population + diet_pair + sex + initial_mass_g\n",
    "\n",
    "Description: In this model, the relationship between initial mass and nutrient consumption is assumed to be linear. This model tests whether a simpler, linear approximation can adequately describe the relationship.\n",
    "\n",
    "**Model 3: Excluding Initial Mass**\n",
    "\n",
    "Formula:\n",
    "- carb_consumed_g ~ population + sex + diet_pair\n",
    "- protein_consumed_g ~ population + sex + diet_pair\n",
    "\n",
    "Description: This model excludes the initial mass as an explanatory variable, focusing only on population, sex, and diet pair to explain the variation in carbohydrate and protein consumption.\n",
    "\n",
    "**Model 4: Null Model**\n",
    "\n",
    "Formula:\n",
    "- carb_consumed_g ~ 1\n",
    "- protein_consumed_g ~ 1\n",
    "\n",
    "Description: The null model includes only an intercept, serving as a baseline to compare the other models. This model should represent the worst fit to the data, as it assumes no relationship between the predictors and the response variables.\n",
    "\n",
    "After fitting these models, we will compare them using the following criteria:\n",
    "\n",
    "- Akaike Information Criterion (AIC): A measure of the relative quality of the models for a given dataset, considering both goodness of fit and model complexity.\n",
    "- Bayesian Information Criterion (BIC): Similar to AIC, but with a stronger penalty for models with more parameters.\n",
    "- Corrected AIC (AICc): AIC adjusted for small sample sizes, ensuring a more reliable comparison when sample sizes are limited.\n",
    "By examining the AIC, BIC, and AICc values, we will select the best model for explaining carbohydrate and protein consumption."
   ]
  },
  {
   "cell_type": "code",
   "execution_count": 6,
   "id": "6acf88f7-74e8-41cf-962a-fac4287f6329",
   "metadata": {},
   "outputs": [],
   "source": [
    "# Model 1: Non-linear Relationship with Initial Mass\n",
    "mod1 <- gam(list(\n",
    "  carb_consumed_g ~ population + diet_pair + sex + s(initial_mass_g, k=30),\n",
    "  protein_consumed_g ~ population + diet_pair + sex + s(initial_mass_g, k=30)\n",
    "), family = mvn(d = 2), select = TRUE, data = dat)\n",
    "\n",
    "# Model 2: Linear Relationship with Initial Mass\n",
    "mod2 <- gam(list(\n",
    "  carb_consumed_g ~ population + diet_pair + sex + initial_mass_g,\n",
    "  protein_consumed_g ~ population + diet_pair + sex + initial_mass_g\n",
    "), family = mvn(d = 2), select = TRUE, data = dat)\n",
    "\n",
    "# Model 3: Excluding Initial Mass\n",
    "mod3 <- gam(list(\n",
    "  carb_consumed_g ~ population + diet_pair + sex,\n",
    "  protein_consumed_g ~ population + diet_pair + sex\n",
    "), family = mvn(d = 2), select = TRUE, data = dat)\n",
    "\n",
    "# Model 4: NULL model (This should be the worst model)\n",
    "mod4 <- gam(list(\n",
    "  carb_consumed_g ~ 1,\n",
    "  protein_consumed_g ~ 1\n",
    "), family = mvn(d = 2), select = TRUE, data = dat)\n"
   ]
  },
  {
   "cell_type": "markdown",
   "id": "93a1fe04-4c7d-4f27-bbda-86064d7e821c",
   "metadata": {},
   "source": [
    "## Model Diagnostics\n",
    "\n",
    "To see how well these models fit, I will run `mgcv::gam.check()` on it"
   ]
  },
  {
   "cell_type": "code",
   "execution_count": 7,
   "id": "43f14dba-f6b1-4c24-abbc-5556936fea4b",
   "metadata": {},
   "outputs": [
    {
     "name": "stdout",
     "output_type": "stream",
     "text": [
      "\n",
      "Method: REML   Optimizer: outer newton\n",
      "full convergence after 17 iterations.\n",
      "Gradient range [-0.0004276099,-1.37031e-05]\n",
      "(score -576.2551 & scale 1).\n",
      "Hessian positive definite, eigenvalue range [0.000199142,0.04150658].\n",
      "Model rank =  69 / 69 \n",
      "\n",
      "Basis dimension (k) checking results. Low p-value (k-index<1) may\n",
      "indicate that k is too low, especially if edf is close to k'.\n",
      "\n",
      "                          k'      edf k-index p-value\n",
      "s(initial_mass_g)   2.90e+01 1.32e-04    0.94    0.27\n",
      "s.1(initial_mass_g) 2.90e+01 9.29e-04    0.94    0.26\n"
     ]
    },
    {
     "data": {
      "image/png": "[encoded data removed]",
      "text/plain": [
       "Plot with title “Response vs. Fitted Values”"
      ]
     },
     "metadata": {
      "image/png": {
       "height": 600,
       "width": 600
      }
     },
     "output_type": "display_data"
    }
   ],
   "source": [
    "gam.check(mod1)"
   ]
  },
  {
   "cell_type": "markdown",
   "id": "79a2dead-ca91-402c-a5fc-6f3109e7552c",
   "metadata": {},
   "source": [
    "These diagnostic plots indicate these models are pretty well fit.\n",
    "\n",
    "there is some discernable relationship in the variance plot, but it could be worse\n",
    "\n",
    "\n",
    "\n",
    "## Model selection\n",
    "now lets calculate the model selection criteria\n",
    "\n"
   ]
  },
  {
   "cell_type": "code",
   "execution_count": 8,
   "id": "e775c470-7707-4b7c-bbb0-6a39a225138c",
   "metadata": {},
   "outputs": [],
   "source": [
    "# Model selection using AIC, BIC, and AICc\n",
    "bic <- BIC(mod1, mod2, mod3, mod4) |>  # Bayesian Information Criterion\n",
    "    mutate(deltaBIC = BIC - min(BIC)) |>\n",
    "    rownames_to_column('model') |>\n",
    "    dplyr::select(model,BIC,deltaBIC)\n",
    "\n",
    "aic <- AIC(mod1, mod2, mod3, mod4)  |>  # Akaike Information Criterion\n",
    "    mutate(deltaAIC = AIC - min(AIC)) |>\n",
    "    rownames_to_column('model') |>\n",
    "    dplyr::select(model,AIC,deltaAIC)\n",
    "\n",
    "aicc <- AICc(mod1, mod2, mod3, mod4)  |>  # AIC adjusted for small sample size\n",
    "    mutate(deltaAICc = AICc - min(AICc)) |>\n",
    "    rownames_to_column('model') |>\n",
    "    dplyr::select(model,AICc,deltaAICc)\n",
    "\n",
    "model_selection_tables <- bic |>\n",
    "    left_join(aic,by='model') |>\n",
    "    left_join(aicc,by='model') |>\n",
    "    mutate(experiment = 'choice_experiment')"
   ]
  },
  {
   "cell_type": "code",
   "execution_count": 9,
   "id": "e20d87da-19ac-4bb4-98c8-51534f36c20a",
   "metadata": {},
   "outputs": [
    {
     "data": {
      "text/html": [
       "<table class=\"dataframe\">\n",
       "<caption>A data.frame: 4 × 8</caption>\n",
       "<thead>\n",
       "\t<tr><th scope=col>model</th><th scope=col>BIC</th><th scope=col>deltaBIC</th><th scope=col>AIC</th><th scope=col>deltaAIC</th><th scope=col>AICc</th><th scope=col>deltaAICc</th><th scope=col>experiment</th></tr>\n",
       "\t<tr><th scope=col>&lt;chr&gt;</th><th scope=col>&lt;dbl&gt;</th><th scope=col>&lt;dbl&gt;</th><th scope=col>&lt;dbl&gt;</th><th scope=col>&lt;dbl&gt;</th><th scope=col>&lt;dbl&gt;</th><th scope=col>&lt;dbl&gt;</th><th scope=col>&lt;chr&gt;</th></tr>\n",
       "</thead>\n",
       "<tbody>\n",
       "\t<tr><td>mod3</td><td>-1201.021</td><td>0.000000000</td><td>-1225.596</td><td> 0.000000000</td><td>-1220.964</td><td> 0.000000000</td><td>choice_experiment</td></tr>\n",
       "\t<tr><td>mod1</td><td>-1201.012</td><td>0.008717714</td><td>-1225.592</td><td> 0.003981564</td><td>-1220.958</td><td> 0.005864869</td><td>choice_experiment</td></tr>\n",
       "\t<tr><td>mod4</td><td>-1198.464</td><td>2.556440510</td><td>-1209.635</td><td>15.961079538</td><td>-1208.682</td><td>12.281881543</td><td>choice_experiment</td></tr>\n",
       "\t<tr><td>mod2</td><td>-1193.742</td><td>7.279113033</td><td>-1222.785</td><td> 2.810900024</td><td>-1216.167</td><td> 4.797502894</td><td>choice_experiment</td></tr>\n",
       "</tbody>\n",
       "</table>\n"
      ],
      "text/latex": [
       "A data.frame: 4 × 8\n",
       "\\begin{tabular}{llllllll}\n",
       " model & BIC & deltaBIC & AIC & deltaAIC & AICc & deltaAICc & experiment\\\\\n",
       " <chr> & <dbl> & <dbl> & <dbl> & <dbl> & <dbl> & <dbl> & <chr>\\\\\n",
       "\\hline\n",
       "\t mod3 & -1201.021 & 0.000000000 & -1225.596 &  0.000000000 & -1220.964 &  0.000000000 & choice\\_experiment\\\\\n",
       "\t mod1 & -1201.012 & 0.008717714 & -1225.592 &  0.003981564 & -1220.958 &  0.005864869 & choice\\_experiment\\\\\n",
       "\t mod4 & -1198.464 & 2.556440510 & -1209.635 & 15.961079538 & -1208.682 & 12.281881543 & choice\\_experiment\\\\\n",
       "\t mod2 & -1193.742 & 7.279113033 & -1222.785 &  2.810900024 & -1216.167 &  4.797502894 & choice\\_experiment\\\\\n",
       "\\end{tabular}\n"
      ],
      "text/markdown": [
       "\n",
       "A data.frame: 4 × 8\n",
       "\n",
       "| model &lt;chr&gt; | BIC &lt;dbl&gt; | deltaBIC &lt;dbl&gt; | AIC &lt;dbl&gt; | deltaAIC &lt;dbl&gt; | AICc &lt;dbl&gt; | deltaAICc &lt;dbl&gt; | experiment &lt;chr&gt; |\n",
       "|---|---|---|---|---|---|---|---|\n",
       "| mod3 | -1201.021 | 0.000000000 | -1225.596 |  0.000000000 | -1220.964 |  0.000000000 | choice_experiment |\n",
       "| mod1 | -1201.012 | 0.008717714 | -1225.592 |  0.003981564 | -1220.958 |  0.005864869 | choice_experiment |\n",
       "| mod4 | -1198.464 | 2.556440510 | -1209.635 | 15.961079538 | -1208.682 | 12.281881543 | choice_experiment |\n",
       "| mod2 | -1193.742 | 7.279113033 | -1222.785 |  2.810900024 | -1216.167 |  4.797502894 | choice_experiment |\n",
       "\n"
      ],
      "text/plain": [
       "  model BIC       deltaBIC    AIC       deltaAIC     AICc      deltaAICc   \n",
       "1 mod3  -1201.021 0.000000000 -1225.596  0.000000000 -1220.964  0.000000000\n",
       "2 mod1  -1201.012 0.008717714 -1225.592  0.003981564 -1220.958  0.005864869\n",
       "3 mod4  -1198.464 2.556440510 -1209.635 15.961079538 -1208.682 12.281881543\n",
       "4 mod2  -1193.742 7.279113033 -1222.785  2.810900024 -1216.167  4.797502894\n",
       "  experiment       \n",
       "1 choice_experiment\n",
       "2 choice_experiment\n",
       "3 choice_experiment\n",
       "4 choice_experiment"
      ]
     },
     "metadata": {},
     "output_type": "display_data"
    }
   ],
   "source": [
    "model_selection_tables |>\n",
    "    arrange(deltaBIC) "
   ]
  },
  {
   "cell_type": "markdown",
   "id": "8a67e20b-08d7-4ad7-b72d-ed4707fcb3f7",
   "metadata": {},
   "source": [
    "Model selection criteria supports that model 3 (which excludes starting mass) is the most parsimonous model\n",
    "\n",
    "The model summary is below"
   ]
  },
  {
   "cell_type": "code",
   "execution_count": 10,
   "id": "d9339990-a702-473e-ad1a-0639198264f1",
   "metadata": {},
   "outputs": [
    {
     "data": {
      "text/plain": [
       "\n",
       "Family: Multivariate normal \n",
       "Link function: \n",
       "\n",
       "Formula:\n",
       "carb_consumed_g ~ population + diet_pair + sex\n",
       "protein_consumed_g ~ population + diet_pair + sex\n",
       "\n",
       "Parametric coefficients:\n",
       "                       Estimate Std. Error z value Pr(>|z|)    \n",
       "(Intercept)            0.026442   0.002062  12.825  < 2e-16 ***\n",
       "populationMendooran   -0.001464   0.002086  -0.702    0.483    \n",
       "diet_pairB             0.001173   0.002082   0.563    0.573    \n",
       "sexM                  -0.010924   0.002076  -5.262 1.43e-07 ***\n",
       "(Intercept).1          0.013591   0.001500   9.062  < 2e-16 ***\n",
       "populationMendooran.1 -0.002345   0.001517  -1.546    0.122    \n",
       "diet_pairB.1           0.001592   0.001514   1.051    0.293    \n",
       "sexM.1                -0.005952   0.001510  -3.941 8.12e-05 ***\n",
       "---\n",
       "Signif. codes:  0 ‘***’ 0.001 ‘**’ 0.01 ‘*’ 0.05 ‘.’ 0.1 ‘ ’ 1\n",
       "\n",
       "\n",
       "Deviance explained = 19.5%\n",
       "-REML = -576.26  Scale est. = 1         n = 69"
      ]
     },
     "metadata": {},
     "output_type": "display_data"
    }
   ],
   "source": [
    "summary(mod3)"
   ]
  },
  {
   "cell_type": "markdown",
   "id": "8e9efa6f-2bb1-4f20-ac54-1107d0ac249f",
   "metadata": {},
   "source": [
    "## Key Findings\n",
    "\n",
    "Carbohydrate Consumption: Significant negative effects are observed for sexM (p < 0.001). The other predictors, populationMendooran and diet_pairB, are not significant.\n",
    "\n",
    "Protein Consumption: Significant negative effects are found for sexM (p < 0.001). The other predictors, populationMendooran.1 and diet_pairB.1, do not show significant effects.\n",
    "\n",
    "Model Fit: The model explains 19.5% of the deviance. \n",
    "\n",
    "## Model outputs\n",
    "\n",
    "I am going to get the estimated marginal means for `diet_pair`,`sex`, and `population`\n",
    "\n",
    "I will add this as a column on the dataframe \n",
    "\n",
    "I will also write out to disk the model object\n"
   ]
  },
  {
   "cell_type": "code",
   "execution_count": 13,
   "id": "74361857-b48d-4b62-89df-858f92347efb",
   "metadata": {
    "scrolled": true
   },
   "outputs": [
    {
     "data": {
      "text/html": [
       "<table class=\"dataframe\">\n",
       "<caption>A data.frame: 8 × 5</caption>\n",
       "<thead>\n",
       "\t<tr><th scope=col>population</th><th scope=col>diet_pair</th><th scope=col>sex</th><th scope=col>pred_carb</th><th scope=col>pred_protein</th></tr>\n",
       "\t<tr><th scope=col>&lt;fct&gt;</th><th scope=col>&lt;fct&gt;</th><th scope=col>&lt;fct&gt;</th><th scope=col>&lt;dbl&gt;</th><th scope=col>&lt;dbl&gt;</th></tr>\n",
       "</thead>\n",
       "<tbody>\n",
       "\t<tr><td>Mendooran</td><td>A</td><td>M</td><td>0.01405383</td><td>0.005294840</td></tr>\n",
       "\t<tr><td>Guntawang</td><td>A</td><td>M</td><td>0.01551792</td><td>0.007639662</td></tr>\n",
       "\t<tr><td>Mendooran</td><td>B</td><td>M</td><td>0.01522647</td><td>0.006886952</td></tr>\n",
       "\t<tr><td>Guntawang</td><td>B</td><td>M</td><td>0.01669057</td><td>0.009231775</td></tr>\n",
       "\t<tr><td>Mendooran</td><td>A</td><td>F</td><td>0.02497786</td><td>0.011246543</td></tr>\n",
       "\t<tr><td>Guntawang</td><td>A</td><td>F</td><td>0.02644195</td><td>0.013591366</td></tr>\n",
       "\t<tr><td>Mendooran</td><td>B</td><td>F</td><td>0.02615051</td><td>0.012838655</td></tr>\n",
       "\t<tr><td>Guntawang</td><td>B</td><td>F</td><td>0.02761460</td><td>0.015183478</td></tr>\n",
       "</tbody>\n",
       "</table>\n"
      ],
      "text/latex": [
       "A data.frame: 8 × 5\n",
       "\\begin{tabular}{lllll}\n",
       " population & diet\\_pair & sex & pred\\_carb & pred\\_protein\\\\\n",
       " <fct> & <fct> & <fct> & <dbl> & <dbl>\\\\\n",
       "\\hline\n",
       "\t Mendooran & A & M & 0.01405383 & 0.005294840\\\\\n",
       "\t Guntawang & A & M & 0.01551792 & 0.007639662\\\\\n",
       "\t Mendooran & B & M & 0.01522647 & 0.006886952\\\\\n",
       "\t Guntawang & B & M & 0.01669057 & 0.009231775\\\\\n",
       "\t Mendooran & A & F & 0.02497786 & 0.011246543\\\\\n",
       "\t Guntawang & A & F & 0.02644195 & 0.013591366\\\\\n",
       "\t Mendooran & B & F & 0.02615051 & 0.012838655\\\\\n",
       "\t Guntawang & B & F & 0.02761460 & 0.015183478\\\\\n",
       "\\end{tabular}\n"
      ],
      "text/markdown": [
       "\n",
       "A data.frame: 8 × 5\n",
       "\n",
       "| population &lt;fct&gt; | diet_pair &lt;fct&gt; | sex &lt;fct&gt; | pred_carb &lt;dbl&gt; | pred_protein &lt;dbl&gt; |\n",
       "|---|---|---|---|---|\n",
       "| Mendooran | A | M | 0.01405383 | 0.005294840 |\n",
       "| Guntawang | A | M | 0.01551792 | 0.007639662 |\n",
       "| Mendooran | B | M | 0.01522647 | 0.006886952 |\n",
       "| Guntawang | B | M | 0.01669057 | 0.009231775 |\n",
       "| Mendooran | A | F | 0.02497786 | 0.011246543 |\n",
       "| Guntawang | A | F | 0.02644195 | 0.013591366 |\n",
       "| Mendooran | B | F | 0.02615051 | 0.012838655 |\n",
       "| Guntawang | B | F | 0.02761460 | 0.015183478 |\n",
       "\n"
      ],
      "text/plain": [
       "  population diet_pair sex pred_carb  pred_protein\n",
       "1 Mendooran  A         M   0.01405383 0.005294840 \n",
       "2 Guntawang  A         M   0.01551792 0.007639662 \n",
       "3 Mendooran  B         M   0.01522647 0.006886952 \n",
       "4 Guntawang  B         M   0.01669057 0.009231775 \n",
       "5 Mendooran  A         F   0.02497786 0.011246543 \n",
       "6 Guntawang  A         F   0.02644195 0.013591366 \n",
       "7 Mendooran  B         F   0.02615051 0.012838655 \n",
       "8 Guntawang  B         F   0.02761460 0.015183478 "
      ]
     },
     "metadata": {},
     "output_type": "display_data"
    }
   ],
   "source": [
    "choice_exp_preds <- expand.grid(\n",
    "  population = unique(dat$population),\n",
    "  diet_pair = unique(dat$diet_pair),\n",
    "  sex = unique(dat$sex)\n",
    ")\n",
    "\n",
    "# Predict carbohydrate consumption\n",
    "choice_exp_preds$pred_carb <- predict(mod3, newdata = choice_exp_preds, type = \"response\")[, 1]\n",
    "\n",
    "# Predict protein consumption\n",
    "choice_exp_preds$pred_protein <- predict(mod3, newdata = choice_exp_preds, type = \"response\")[, 2]\n",
    "\n",
    "choice_exp_preds"
   ]
  },
  {
   "cell_type": "markdown",
   "id": "2adc13ca-ecc7-40b8-9ec2-877411943fc8",
   "metadata": {},
   "source": [
    "Saving the predictions and model object for later visualization"
   ]
  },
  {
   "cell_type": "code",
   "execution_count": 17,
   "id": "070371a9-fb19-4c81-ada7-6fd237d7bb8a",
   "metadata": {
    "scrolled": true
   },
   "outputs": [],
   "source": [
    "write.csv(choice_exp_preds,here('data/processed/field_populations/choice_experiment_predictions.csv'),row.names=FALSE)\n",
    "\n",
    "\n",
    "write.csv(model_selection_tables, here(\"output/field_populations/choice_experiment_model_selection_criteria_results.csv\"),row.names=FALSE)\n",
    "\n",
    "\n",
    "# Combine the lists into a single list\n",
    "models <- list('mod1'= mod1, 'mod2' = mod2, 'mod3'= mod3, 'mod4'= mod4)\n",
    "\n",
    "# Save the combined list to an RDS file\n",
    "saveRDS(models, here(\"output/field_populations/model_objects/choice_experiment_models.rds\"))"
   ]
  }
 ],
 "metadata": {
  "kernelspec": {
   "display_name": "R",
   "language": "R",
   "name": "ir"
  },
  "language_info": {
   "codemirror_mode": "r",
   "file_extension": ".r",
   "mimetype": "text/x-r-source",
   "name": "R",
   "pygments_lexer": "r",
   "version": "4.4.0"
  }
 },
 "nbformat": 4,
 "nbformat_minor": 5
}
