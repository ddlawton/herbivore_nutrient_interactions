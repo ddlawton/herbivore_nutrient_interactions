{
 "cells": [
  {
   "cell_type": "markdown",
   "id": "0d8cbe36-ad59-4370-a936-ff744b90bed7",
   "metadata": {},
   "source": [
    "# Australia Plauge Locust Modeling\n",
    "\n",
    "This section covers the spatial modeling for australian plague locusts\n",
    "\n",
    "- section 1: data management\n",
    "- section 2: outbreak modeling\n",
    "- section 3: nil-observatiom modeling\n",
    "- section 4: outbreak and mean annual preciptation modeling\n",
    "\n",
    "We will do basic modeling and saving relevant data to disk \n",
    "\n",
    "Another notebook later in the series will create mansucript figures and tables\n",
    "\n",
    "# Section 1 - Data management"
   ]
  },
  {
   "cell_type": "code",
   "execution_count": 1,
   "id": "36eefa03-e030-42db-a6ea-137c85d269a9",
   "metadata": {},
   "outputs": [
    {
     "name": "stderr",
     "output_type": "stream",
     "text": [
      "This is mgcv 1.9-1. For overview type 'help(\"mgcv-package\")'.\n",
      "\n",
      "Linking to GEOS 3.10.2, GDAL 3.4.1, PROJ 8.2.1; sf_use_s2() is TRUE\n",
      "\n",
      "\n",
      "Attaching package: ‘janitor’\n",
      "\n",
      "\n",
      "The following objects are masked from ‘package:stats’:\n",
      "\n",
      "    chisq.test, fisher.test\n",
      "\n",
      "\n",
      "here() starts at /home/datascience/nutrients_and_locust_outbreaks/scripts/spatial_modeling\n",
      "\n",
      "Registered S3 method overwritten by 'GGally':\n",
      "  method from   \n",
      "  +.gg   ggplot2\n",
      "\n",
      "── \u001b[1mAttaching core tidyverse packages\u001b[22m ──────────────────────── tidyverse 2.0.0 ──\n",
      "\u001b[32m✔\u001b[39m \u001b[34mdplyr    \u001b[39m 1.1.4     \u001b[32m✔\u001b[39m \u001b[34mreadr    \u001b[39m 2.1.5\n",
      "\u001b[32m✔\u001b[39m \u001b[34mforcats  \u001b[39m 1.0.0     \u001b[32m✔\u001b[39m \u001b[34mstringr  \u001b[39m 1.5.1\n",
      "\u001b[32m✔\u001b[39m \u001b[34mlubridate\u001b[39m 1.9.3     \u001b[32m✔\u001b[39m \u001b[34mtibble   \u001b[39m 3.2.1\n",
      "\u001b[32m✔\u001b[39m \u001b[34mpurrr    \u001b[39m 1.0.2     \u001b[32m✔\u001b[39m \u001b[34mtidyr    \u001b[39m 1.3.1\n",
      "── \u001b[1mConflicts\u001b[22m ────────────────────────────────────────── tidyverse_conflicts() ──\n",
      "\u001b[31m✖\u001b[39m \u001b[34mstringr\u001b[39m::\u001b[32mboundary()\u001b[39m masks \u001b[34mgratia\u001b[39m::boundary()\n",
      "\u001b[31m✖\u001b[39m \u001b[34mdplyr\u001b[39m::\u001b[32mcollapse()\u001b[39m   masks \u001b[34mnlme\u001b[39m::collapse()\n",
      "\u001b[31m✖\u001b[39m \u001b[34mdplyr\u001b[39m::\u001b[32mfilter()\u001b[39m     masks \u001b[34mstats\u001b[39m::filter()\n",
      "\u001b[31m✖\u001b[39m \u001b[34mdplyr\u001b[39m::\u001b[32mlag()\u001b[39m        masks \u001b[34mstats\u001b[39m::lag()\n",
      "\u001b[36mℹ\u001b[39m Use the conflicted package (\u001b[3m\u001b[34m<http://conflicted.r-lib.org/>\u001b[39m\u001b[23m) to force all conflicts to become errors\n",
      "here() starts at /home/datascience/nutrients_and_locust_outbreaks\n",
      "\n"
     ]
    }
   ],
   "source": [
    "load_packages <- function(packages) {\n",
    "  # Check for uninstalled packages\n",
    "  uninstalled <- packages[!packages %in% installed.packages()[,\"Package\"]]\n",
    "  \n",
    "  # Install uninstalled packages\n",
    "  if(length(uninstalled)) install.packages(uninstalled, dependencies = TRUE)\n",
    "\n",
    "  # Load all packages\n",
    "  for (pkg in packages) {\n",
    "    if (!require(pkg, character.only = TRUE, quietly = TRUE)) {\n",
    "      message(paste(\"Failed to load package:\", pkg))\n",
    "    }\n",
    "  }\n",
    "}\n",
    "\n",
    "# List of packages to check, install, and load\n",
    "packages <- c(\"mgcv\", \"gratia\", \"sf\",\"rnaturalearth\",\n",
    "              \"ggpubr\", \"patchwork\", \"broom\", \"knitr\", \"janitor\", \n",
    "              \"here\",\"ggpubr\",\"MetBrewer\",\"GGally\",\"tidyverse\")\n",
    "\n",
    "load_packages(packages)\n",
    "\n",
    "i_am('README.md')\n",
    "\n",
    "\n",
    "# Setting R options for jupyterlab\n",
    "options(repr.plot.width = 10, repr.plot.height = 10,repr.matrix.max.rows=10)\n"
   ]
  },
  {
   "cell_type": "markdown",
   "id": "55161949-c1fd-4981-a78c-50a4fc334157",
   "metadata": {},
   "source": [
    "## read in data\n",
    "\n",
    "- filter species for APL\n",
    "- manage data into long format\n",
    "- select variables used for modeling\n",
    "- create outbreak and nil observation datasets"
   ]
  },
  {
   "cell_type": "code",
   "execution_count": 2,
   "id": "5c6190fc-1e37-4272-b492-aee923195d6d",
   "metadata": {},
   "outputs": [],
   "source": [
    "apl_dat <- read_csv(here('data/processed/spatial_modeling/apl_survey_remote_sense_data.csv'),show_col_types = FALSE)"
   ]
  },
  {
   "cell_type": "code",
   "execution_count": 3,
   "id": "d0e60f8d-b250-4761-9eea-3b51306714ce",
   "metadata": {
    "scrolled": true
   },
   "outputs": [],
   "source": [
    "apl_locust_dat <- apl_dat |>\n",
    "    clean_names() |>\n",
    "  mutate(adult_density = str_remove_all(adult_density, \"[{}]\"),\n",
    "         nymph_density = str_remove_all(nymph_density, \"[{}]\")) %>%\n",
    "  separate_rows(adult_density, sep = \", \") %>%\n",
    "  separate(adult_density, into = c(\"adult_density\", \"adult_density_count\"), sep = \": \") %>%\n",
    "  separate_rows(nymph_density, sep = \", \") %>%\n",
    "  separate(nymph_density, into = c(\"nymph_density\", \"nymph_density_count\"), sep = \": \") %>%\n",
    "  mutate(across(c(adult_density, adult_density_count, nymph_density, nymph_density_count), as.numeric)) |> \n",
    "  distinct() |>\n",
    "  group_by(polygon_id,species) |>\n",
    "  mutate(total_observations = n()) \n"
   ]
  },
  {
   "cell_type": "code",
   "execution_count": 4,
   "id": "4b325f54-6fda-45f3-baa5-a92c67553bfc",
   "metadata": {},
   "outputs": [],
   "source": [
    "apl_outbreak_dat <- apl_locust_dat |>\n",
    "    ungroup() |>\n",
    "    filter(species == 11 & nymph_density == 4) |>\n",
    "    select(polygon_id,longitude,latitude,nymph_density,nymph_density_count,nymph_density_total_count,\n",
    "           nto_nto_000_005_ev,nto_nto_005_015_ev,pto_pto_005_015_ev,pto_pto_000_005_ev) |>\n",
    "    group_by(polygon_id) |>\n",
    "    mutate(nitrogen = sum(nto_nto_005_015_ev,nto_nto_000_005_ev)/2, \n",
    "           phosphorus = sum(pto_pto_005_015_ev,pto_pto_000_005_ev)/2) |>\n",
    "    select(!c(nto_nto_000_005_ev,nto_nto_005_015_ev,pto_pto_005_015_ev,pto_pto_000_005_ev))  |>\n",
    "    distinct()\n",
    "\n",
    "apl_nil_dat <- apl_locust_dat |>\n",
    "    ungroup() |>\n",
    "    filter(species == 11 & nymph_density == 0) |>\n",
    "    select(polygon_id,longitude,latitude,nymph_density,nymph_density_count,nymph_density_total_count,\n",
    "           nto_nto_000_005_ev,nto_nto_005_015_ev,pto_pto_005_015_ev,pto_pto_000_005_ev) |>\n",
    "    group_by(polygon_id) |>\n",
    "    mutate(nitrogen = sum(nto_nto_005_015_ev,nto_nto_000_005_ev)/2, \n",
    "           phosphorus = sum(pto_pto_005_015_ev,pto_pto_000_005_ev)/2) |>\n",
    "    select(!c(nto_nto_000_005_ev,nto_nto_005_015_ev,pto_pto_005_015_ev,pto_pto_000_005_ev)) |>\n",
    "    distinct()"
   ]
  },
  {
   "cell_type": "markdown",
   "id": "1a6244cb-11b2-4ecd-8eba-54e98b9ae872",
   "metadata": {},
   "source": [
    "### save to disk for further use"
   ]
  },
  {
   "cell_type": "code",
   "execution_count": 5,
   "id": "d67be167-e540-4b56-a406-a250036f9e0c",
   "metadata": {},
   "outputs": [],
   "source": [
    "\n",
    "write.csv(apl_outbreak_dat,here('data/processed/spatial_modeling/spatial_modeling_locust_outbreak_model_data.csv'),row.names=FALSE)\n",
    "\n",
    "write.csv(apl_nil_dat,here('data/processed/spatial_modeling/spatial_modeling_locust_nil_model_data.csv.csv'),row.names=FALSE)\n"
   ]
  },
  {
   "cell_type": "markdown",
   "id": "d678e636-48ed-429b-bc59-932894c74996",
   "metadata": {},
   "source": [
    "# Section 2 - outbreak modeling"
   ]
  },
  {
   "cell_type": "code",
   "execution_count": 6,
   "id": "79f223b0-6203-499c-81fc-d63ab543546b",
   "metadata": {},
   "outputs": [],
   "source": [
    "outbreak_data <- read_csv(here('data/processed/spatial_modeling/spatial_modeling_locust_outbreak_model_data.csv'),\n",
    "                          show_col_types = FALSE)"
   ]
  },
  {
   "cell_type": "code",
   "execution_count": 7,
   "id": "70443302-50a8-470f-ab5f-4aa6b9f36dc9",
   "metadata": {},
   "outputs": [
    {
     "data": {
      "text/plain": [
       "   polygon_id        longitude        latitude      nymph_density\n",
       " Min.   : 162921   Min.   :137.0   Min.   :-37.57   Min.   :4    \n",
       " 1st Qu.: 437652   1st Qu.:139.7   1st Qu.:-34.45   1st Qu.:4    \n",
       " Median :1009080   Median :143.0   Median :-32.53   Median :4    \n",
       " Mean   : 984239   Mean   :142.9   Mean   :-32.25   Mean   :4    \n",
       " 3rd Qu.:1494166   3rd Qu.:146.0   3rd Qu.:-31.04   3rd Qu.:4    \n",
       " Max.   :2092645   Max.   :151.3   Max.   :-21.08   Max.   :4    \n",
       " nymph_density_count nymph_density_total_count    nitrogen      \n",
       " Min.   : 1.000      Min.   : 1.000            Min.   :0.02707  \n",
       " 1st Qu.: 1.000      1st Qu.: 1.000            1st Qu.:0.05679  \n",
       " Median : 1.000      Median : 1.000            Median :0.07959  \n",
       " Mean   : 1.422      Mean   : 2.267            Mean   :0.09497  \n",
       " 3rd Qu.: 1.000      3rd Qu.: 3.000            3rd Qu.:0.11589  \n",
       " Max.   :23.000      Max.   :37.000            Max.   :0.61003  \n",
       "   phosphorus     \n",
       " Min.   :0.01107  \n",
       " 1st Qu.:0.02563  \n",
       " Median :0.03098  \n",
       " Mean   :0.03739  \n",
       " 3rd Qu.:0.03713  \n",
       " Max.   :0.23102  "
      ]
     },
     "metadata": {},
     "output_type": "display_data"
    }
   ],
   "source": [
    "summary(outbreak_data)"
   ]
  },
  {
   "cell_type": "markdown",
   "id": "91a0773c-2fba-4020-8eb9-e61280afe0c4",
   "metadata": {},
   "source": [
    "## Raw data visualization"
   ]
  },
  {
   "cell_type": "code",
   "execution_count": 8,
   "id": "b5702d11-6d0b-45b5-a1f7-1be5569ffec0",
   "metadata": {},
   "outputs": [
    {
     "data": {
      "text/html": [
       "<table class=\"dataframe\">\n",
       "<caption>A tibble: 1 × 8</caption>\n",
       "<thead>\n",
       "\t<tr><th scope=col>polygon_id</th><th scope=col>longitude</th><th scope=col>latitude</th><th scope=col>nymph_density</th><th scope=col>nymph_density_count</th><th scope=col>nymph_density_total_count</th><th scope=col>nitrogen</th><th scope=col>phosphorus</th></tr>\n",
       "\t<tr><th scope=col>&lt;dbl&gt;</th><th scope=col>&lt;dbl&gt;</th><th scope=col>&lt;dbl&gt;</th><th scope=col>&lt;dbl&gt;</th><th scope=col>&lt;dbl&gt;</th><th scope=col>&lt;dbl&gt;</th><th scope=col>&lt;dbl&gt;</th><th scope=col>&lt;dbl&gt;</th></tr>\n",
       "</thead>\n",
       "<tbody>\n",
       "\t<tr><td>162921</td><td>137.1195</td><td>-33.36002</td><td>4</td><td>1</td><td>1</td><td>0.07035461</td><td>0.02197414</td></tr>\n",
       "</tbody>\n",
       "</table>\n"
      ],
      "text/latex": [
       "A tibble: 1 × 8\n",
       "\\begin{tabular}{llllllll}\n",
       " polygon\\_id & longitude & latitude & nymph\\_density & nymph\\_density\\_count & nymph\\_density\\_total\\_count & nitrogen & phosphorus\\\\\n",
       " <dbl> & <dbl> & <dbl> & <dbl> & <dbl> & <dbl> & <dbl> & <dbl>\\\\\n",
       "\\hline\n",
       "\t 162921 & 137.1195 & -33.36002 & 4 & 1 & 1 & 0.07035461 & 0.02197414\\\\\n",
       "\\end{tabular}\n"
      ],
      "text/markdown": [
       "\n",
       "A tibble: 1 × 8\n",
       "\n",
       "| polygon_id &lt;dbl&gt; | longitude &lt;dbl&gt; | latitude &lt;dbl&gt; | nymph_density &lt;dbl&gt; | nymph_density_count &lt;dbl&gt; | nymph_density_total_count &lt;dbl&gt; | nitrogen &lt;dbl&gt; | phosphorus &lt;dbl&gt; |\n",
       "|---|---|---|---|---|---|---|---|\n",
       "| 162921 | 137.1195 | -33.36002 | 4 | 1 | 1 | 0.07035461 | 0.02197414 |\n",
       "\n"
      ],
      "text/plain": [
       "  polygon_id longitude latitude  nymph_density nymph_density_count\n",
       "1 162921     137.1195  -33.36002 4             1                  \n",
       "  nymph_density_total_count nitrogen   phosphorus\n",
       "1 1                         0.07035461 0.02197414"
      ]
     },
     "metadata": {},
     "output_type": "display_data"
    },
    {
     "data": {
      "text/html": [
       "6659"
      ],
      "text/latex": [
       "6659"
      ],
      "text/markdown": [
       "6659"
      ],
      "text/plain": [
       "[1] 6659"
      ]
     },
     "metadata": {},
     "output_type": "display_data"
    }
   ],
   "source": [
    "head(outbreak_data,1)\n",
    "nrow(outbreak_data)"
   ]
  },
  {
   "cell_type": "code",
   "execution_count": 9,
   "id": "af683292-2cda-413b-bc4f-015dc18d6fcb",
   "metadata": {},
   "outputs": [],
   "source": [
    "aus <- ne_states(country = 'Australia')\n",
    "\n",
    "\n",
    "map_dat <- outbreak_data |>\n",
    "    select(polygon_id,latitude,longitude,nymph_density_count) |>\n",
    "    st_as_sf(coords = c('longitude','latitude'),\n",
    "                   crs= \"+proj=longlat +datum=WGS84 +ellps=WGS84 +towgs84=0,0,0\")\n",
    "\n",
    "outbreak_point_map <- aus |>\n",
    "    ggplot() +\n",
    "        geom_sf() +\n",
    "        geom_sf(data=map_dat) +\n",
    "        theme_void() \n",
    "\n"
   ]
  },
  {
   "cell_type": "code",
   "execution_count": 10,
   "id": "497620e7-b5d5-431d-8ec3-5a60f7e68b57",
   "metadata": {},
   "outputs": [
    {
     "name": "stderr",
     "output_type": "stream",
     "text": [
      "\u001b[1m\u001b[22m`geom_smooth()` using method = 'gam' and formula = 'y ~ s(x, bs = \"cs\")'\n",
      "\u001b[1m\u001b[22m`geom_smooth()` using method = 'gam' and formula = 'y ~ s(x, bs = \"cs\")'\n"
     ]
    },
    {
     "data": {
      "image/png": "[encoded data removed]",
      "text/plain": [
       "plot without title"
      ]
     },
     "metadata": {
      "image/png": {
       "height": 600,
       "width": 600
      }
     },
     "output_type": "display_data"
    }
   ],
   "source": [
    "nto_plot <- outbreak_data |>\n",
    "    ggplot(aes(x=nitrogen,y=nymph_density_count)) +\n",
    "        geom_point(pch=21,alpha=0.3,size=0.6) +\n",
    "        geom_smooth() +\n",
    "        theme_pubr()\n",
    "\n",
    "pto_plot <- outbreak_data |>\n",
    "    ggplot(aes(x=phosphorus,y=nymph_density_count)) +\n",
    "        geom_point(pch=21,alpha=0.3,size=0.6) +\n",
    "        geom_smooth() +\n",
    "        theme_pubr()\n",
    "\n",
    "nto_plot + pto_plot"
   ]
  },
  {
   "cell_type": "markdown",
   "id": "981d0b76-9db7-48e8-9f42-ed4c47672a93",
   "metadata": {},
   "source": [
    "## Modeling"
   ]
  },
  {
   "cell_type": "code",
   "execution_count": 11,
   "id": "0bf2bae7-b866-4f91-8875-e6df81fa2401",
   "metadata": {},
   "outputs": [
    {
     "data": {
      "text/html": [
       "<table class=\"dataframe\">\n",
       "<caption>A tibble: 1 × 8</caption>\n",
       "<thead>\n",
       "\t<tr><th scope=col>polygon_id</th><th scope=col>longitude</th><th scope=col>latitude</th><th scope=col>nymph_density</th><th scope=col>nymph_density_count</th><th scope=col>nymph_density_total_count</th><th scope=col>nitrogen</th><th scope=col>phosphorus</th></tr>\n",
       "\t<tr><th scope=col>&lt;dbl&gt;</th><th scope=col>&lt;dbl&gt;</th><th scope=col>&lt;dbl&gt;</th><th scope=col>&lt;dbl&gt;</th><th scope=col>&lt;dbl&gt;</th><th scope=col>&lt;dbl&gt;</th><th scope=col>&lt;dbl&gt;</th><th scope=col>&lt;dbl&gt;</th></tr>\n",
       "</thead>\n",
       "<tbody>\n",
       "\t<tr><td>162921</td><td>137.1195</td><td>-33.36002</td><td>4</td><td>1</td><td>1</td><td>0.07035461</td><td>0.02197414</td></tr>\n",
       "</tbody>\n",
       "</table>\n"
      ],
      "text/latex": [
       "A tibble: 1 × 8\n",
       "\\begin{tabular}{llllllll}\n",
       " polygon\\_id & longitude & latitude & nymph\\_density & nymph\\_density\\_count & nymph\\_density\\_total\\_count & nitrogen & phosphorus\\\\\n",
       " <dbl> & <dbl> & <dbl> & <dbl> & <dbl> & <dbl> & <dbl> & <dbl>\\\\\n",
       "\\hline\n",
       "\t 162921 & 137.1195 & -33.36002 & 4 & 1 & 1 & 0.07035461 & 0.02197414\\\\\n",
       "\\end{tabular}\n"
      ],
      "text/markdown": [
       "\n",
       "A tibble: 1 × 8\n",
       "\n",
       "| polygon_id &lt;dbl&gt; | longitude &lt;dbl&gt; | latitude &lt;dbl&gt; | nymph_density &lt;dbl&gt; | nymph_density_count &lt;dbl&gt; | nymph_density_total_count &lt;dbl&gt; | nitrogen &lt;dbl&gt; | phosphorus &lt;dbl&gt; |\n",
       "|---|---|---|---|---|---|---|---|\n",
       "| 162921 | 137.1195 | -33.36002 | 4 | 1 | 1 | 0.07035461 | 0.02197414 |\n",
       "\n"
      ],
      "text/plain": [
       "  polygon_id longitude latitude  nymph_density nymph_density_count\n",
       "1 162921     137.1195  -33.36002 4             1                  \n",
       "  nymph_density_total_count nitrogen   phosphorus\n",
       "1 1                         0.07035461 0.02197414"
      ]
     },
     "metadata": {},
     "output_type": "display_data"
    }
   ],
   "source": [
    "head(outbreak_data,1)\n"
   ]
  },
  {
   "cell_type": "code",
   "execution_count": 13,
   "id": "4e52132a-c04b-4bee-bfdc-e58c69abae66",
   "metadata": {},
   "outputs": [
    {
     "name": "stderr",
     "output_type": "stream",
     "text": [
      "Warning message in estimate.theta(theta, family, y, mu, scale = scale1, wt = G$w, :\n",
      "“step failure in theta estimation”\n",
      "Warning message in estimate.theta(theta, family, y, mu, scale = scale1, wt = G$w, :\n",
      "“step failure in theta estimation”\n",
      "Warning message in estimate.theta(theta, family, y, mu, scale = scale1, wt = G$w, :\n",
      "“step failure in theta estimation”\n",
      "Warning message in estimate.theta(theta, family, y, mu, scale = scale1, wt = G$w, :\n",
      "“step failure in theta estimation”\n",
      "Warning message in estimate.theta(theta, family, y, mu, scale = scale1, wt = G$w, :\n",
      "“step failure in theta estimation”\n",
      "Warning message in estimate.theta(theta, family, y, mu, scale = scale1, wt = G$w, :\n",
      "“step failure in theta estimation”\n",
      "Warning message in estimate.theta(theta, family, y, mu, scale = scale1, wt = G$w, :\n",
      "“step failure in theta estimation”\n",
      "Warning message in estimate.theta(theta, family, y, mu, scale = scale1, wt = G$w, :\n",
      "“step failure in theta estimation”\n"
     ]
    },
    {
     "ename": "ERROR",
     "evalue": "Error in data[[txt]]: subscript out of bounds\n",
     "output_type": "error",
     "traceback": [
      "Error in data[[txt]]: subscript out of bounds\nTraceback:\n",
      "1. bam(nymph_density_count ~ 1, family = tw(), data = outbreak_data)",
      "2. bgam.fit(G, mf, chunk.size, gp, scale, gamma, method = method, \n .     coef = coef, control = control, cl = cluster, npt = nthreads[1], \n .     gc.level = gc.level, use.chol = use.chol, in.out = in.out, \n .     ...)",
      "3. predict(G, newdata = mf[ind, ], type = \"lpmatrix\", newdata.guaranteed = TRUE, \n .     block.size = length(ind))",
      "4. predict.gam(G, newdata = mf[ind, ], type = \"lpmatrix\", newdata.guaranteed = TRUE, \n .     block.size = length(ind))"
     ]
    }
   ],
   "source": [
    "mod1 <- bam(nymph_density_count ~\n",
    "               s(nitrogen,k=25) +\n",
    "               s(phosphorus,k=25) +\n",
    "               s(nymph_density_total_count,k=25) +\n",
    "               te(longitude,latitude,bs=c('tp','tp'),k=25),\n",
    "           select = TRUE,\n",
    "           discrete = TRUE,\n",
    "           nthreads = 20,\n",
    "          family = tw(),\n",
    "          data = outbreak_data)\n",
    "\n",
    "mod2 <- bam(nymph_density_count ~\n",
    "               s(nitrogen,k=25) +\n",
    "               s(phosphorus,k=25),\n",
    "           select = TRUE,\n",
    "           discrete = TRUE,\n",
    "           nthreads = 20,\n",
    "          family = tw(),\n",
    "          data = outbreak_data)\n",
    "\n",
    "mod3 <- bam(nymph_density_count ~\n",
    "               s(nymph_density_total_count,k=25) +\n",
    "               te(longitude,latitude,bs=c('tp','tp'),k=25),\n",
    "           select = TRUE,\n",
    "           discrete = TRUE,\n",
    "           nthreads = 20,\n",
    "          family = tw(),\n",
    "          data = outbreak_data)\n",
    "\n",
    "mod4 <- bam(nymph_density_count ~ 1,\n",
    "          family = tw(),\n",
    "          data = outbreak_data)\n"
   ]
  },
  {
   "cell_type": "code",
   "execution_count": null,
   "id": "0a8b8ec5-b2b9-476d-8ad3-57df266fcbe5",
   "metadata": {},
   "outputs": [],
   "source": [
    "# Combine the lists into a single list\n",
    "models <- list('mod1'= mod1, 'mod2' = mod2, 'mod3'= mod3, 'mod4'= mod4)\n",
    "\n",
    "# Save the combined list to an RDS file\n",
    "saveRDS(models, here(\"output/spatial_modeling/model_objects/locust_outbreak_models.rds\"))"
   ]
  },
  {
   "cell_type": "code",
   "execution_count": 105,
   "id": "884535db-9f99-45e2-aae3-733221bfba5c",
   "metadata": {},
   "outputs": [
    {
     "data": {
      "text/html": [
       "<table class=\"dataframe\">\n",
       "<caption>A matrix: 4 × 4 of type dbl</caption>\n",
       "<thead>\n",
       "\t<tr><th></th><th scope=col>k'</th><th scope=col>edf</th><th scope=col>k-index</th><th scope=col>p-value</th></tr>\n",
       "</thead>\n",
       "<tbody>\n",
       "\t<tr><th scope=row>s(nitrogen)</th><td> 24</td><td> 6.876001</td><td>1.0060433</td><td>0.7000</td></tr>\n",
       "\t<tr><th scope=row>s(phosphorus)</th><td> 24</td><td> 6.464667</td><td>1.0153661</td><td>0.8375</td></tr>\n",
       "\t<tr><th scope=row>s(nymph_density_total_count)</th><td> 24</td><td>23.572338</td><td>1.0119592</td><td>0.7900</td></tr>\n",
       "\t<tr><th scope=row>te(longitude,latitude)</th><td>224</td><td>48.905909</td><td>0.8992926</td><td>0.0000</td></tr>\n",
       "</tbody>\n",
       "</table>\n"
      ],
      "text/latex": [
       "A matrix: 4 × 4 of type dbl\n",
       "\\begin{tabular}{r|llll}\n",
       "  & k' & edf & k-index & p-value\\\\\n",
       "\\hline\n",
       "\ts(nitrogen) &  24 &  6.876001 & 1.0060433 & 0.7000\\\\\n",
       "\ts(phosphorus) &  24 &  6.464667 & 1.0153661 & 0.8375\\\\\n",
       "\ts(nymph\\_density\\_total\\_count) &  24 & 23.572338 & 1.0119592 & 0.7900\\\\\n",
       "\tte(longitude,latitude) & 224 & 48.905909 & 0.8992926 & 0.0000\\\\\n",
       "\\end{tabular}\n"
      ],
      "text/markdown": [
       "\n",
       "A matrix: 4 × 4 of type dbl\n",
       "\n",
       "| <!--/--> | k' | edf | k-index | p-value |\n",
       "|---|---|---|---|---|\n",
       "| s(nitrogen) |  24 |  6.876001 | 1.0060433 | 0.7000 |\n",
       "| s(phosphorus) |  24 |  6.464667 | 1.0153661 | 0.8375 |\n",
       "| s(nymph_density_total_count) |  24 | 23.572338 | 1.0119592 | 0.7900 |\n",
       "| te(longitude,latitude) | 224 | 48.905909 | 0.8992926 | 0.0000 |\n",
       "\n"
      ],
      "text/plain": [
       "                             k'  edf       k-index   p-value\n",
       "s(nitrogen)                   24  6.876001 1.0060433 0.7000 \n",
       "s(phosphorus)                 24  6.464667 1.0153661 0.8375 \n",
       "s(nymph_density_total_count)  24 23.572338 1.0119592 0.7900 \n",
       "te(longitude,latitude)       224 48.905909 0.8992926 0.0000 "
      ]
     },
     "metadata": {},
     "output_type": "display_data"
    }
   ],
   "source": [
    "k.check(mod)"
   ]
  },
  {
   "cell_type": "markdown",
   "id": "f006d248-85f7-4d6a-9bec-3b8de9c34d7c",
   "metadata": {},
   "source": [
    "# section 3: nil-observatiom modeling"
   ]
  },
  {
   "cell_type": "code",
   "execution_count": null,
   "id": "c3c74097-bbfd-4af3-a1e1-e4bec1c1d31e",
   "metadata": {},
   "outputs": [],
   "source": [
    "nill_data <- read_csv(here('data/processed/spatial_modeling/spatial_modeling_locust_nill_model_data.csv'),\n",
    "                          show_col_types = FALSE)"
   ]
  },
  {
   "cell_type": "code",
   "execution_count": null,
   "id": "e2534793-dd68-4489-869e-3ebe545372e2",
   "metadata": {},
   "outputs": [],
   "source": [
    "mod1 <- bam(nymph_density_count ~\n",
    "               s(nitrogen,k=25) +\n",
    "               s(phosphorus,k=25) +\n",
    "               s(nymph_density_total_count,k=25) +\n",
    "               te(longitude,latitude,bs=c('tp','tp'),k=25),\n",
    "           select = TRUE,\n",
    "           discrete = TRUE,\n",
    "           nthreads = 20,\n",
    "          family = tw(),\n",
    "          data = nill_data)\n",
    "\n",
    "mod2 <- bam(nymph_density_count ~\n",
    "               s(nitrogen,k=25) +\n",
    "               s(phosphorus,k=25),\n",
    "           select = TRUE,\n",
    "           discrete = TRUE,\n",
    "           nthreads = 20,\n",
    "          family = tw(),\n",
    "          data = nill_data)\n",
    "\n",
    "mod3 <- bam(nymph_density_count ~\n",
    "               s(nymph_density_total_count,k=25) +\n",
    "               te(longitude,latitude,bs=c('tp','tp'),k=25),\n",
    "           select = TRUE,\n",
    "           discrete = TRUE,\n",
    "           nthreads = 20,\n",
    "          family = tw(),\n",
    "          data = nill_data)\n",
    "\n",
    "mod4 <- bam(nymph_density_count ~ 1,\n",
    "          family = tw(),\n",
    "          data = nill_data)\n"
   ]
  },
  {
   "cell_type": "code",
   "execution_count": null,
   "id": "52cf85b8-0f0b-4acd-9666-8611673ce2fb",
   "metadata": {},
   "outputs": [],
   "source": [
    "# Combine the lists into a single list\n",
    "models <- list('mod1'= mod1, 'mod2' = mod2, 'mod3'= mod3, 'mod4'= mod4)\n",
    "\n",
    "# Save the combined list to an RDS file\n",
    "saveRDS(models, here(\"output/spatial_modeling/model_objects/locust_nil_models.rds\"))"
   ]
  }
 ],
 "metadata": {
  "kernelspec": {
   "display_name": "R",
   "language": "R",
   "name": "ir"
  },
  "language_info": {
   "codemirror_mode": "r",
   "file_extension": ".r",
   "mimetype": "text/x-r-source",
   "name": "R",
   "pygments_lexer": "r",
   "version": "4.4.0"
  }
 },
 "nbformat": 4,
 "nbformat_minor": 5
}
